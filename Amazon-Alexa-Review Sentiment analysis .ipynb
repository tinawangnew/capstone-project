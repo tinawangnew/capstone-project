{
 "cells": [
  {
   "cell_type": "markdown",
   "metadata": {},
   "source": [
    "#  Amazon Alexa Reviews Sentiment Analysis"
   ]
  },
  {
   "cell_type": "markdown",
   "metadata": {},
   "source": [
    "##  Introduction\n",
    "There are three goals for this project.\n",
    "<ul>\n",
    "    <li>Firstly, in the EDA & Visualizations, the overall analysis for rating, feedback, and each variation of the Alexa products is given. At the end of this part, A summary is given, which gives the information about which Alexa products are the most popular, which ones are needed to be improved, and what characters are for positive or negative review. \n",
    "    <li>Then the other goal is to use Machine Learning algorithms to build a model to predict if one given review is positive or negative. To achieve this goal, first the words are extracted from the reviews. Then in the Machine Learning part, the Logistic Regression is used to build the model. Some algorithms dealing with imbalanced data are applied to the data, and the performance of different algorthms are compared during building Logistic REgression model with some techniques. Additional, the RandomForest is also tried to build the model.\n",
    "    <li> The last goal is Topic Modeling of the Consumer reviews. The further investigation about how to improve Alexa products is conducted based on Topic Modeling.\n",
    "    <li>At last, the future work plan is given based on the existing work.\n"
   ]
  },
  {
   "cell_type": "markdown",
   "metadata": {},
   "source": [
    "## EDA & Visualizations"
   ]
  },
  {
   "cell_type": "code",
   "execution_count": 2,
   "metadata": {},
   "outputs": [],
   "source": [
    "import pandas as pd\n",
    "import matplotlib.pyplot as plt\n",
    "import numpy as np\n",
    "import seaborn as sns\n",
    "import warnings\n",
    "%matplotlib inline"
   ]
  },
  {
   "cell_type": "code",
   "execution_count": 3,
   "metadata": {},
   "outputs": [],
   "source": [
    "df=pd.read_csv('E:/spingboard/project/amazon_alexa.tsv',sep='\\t')"
   ]
  },
  {
   "cell_type": "code",
   "execution_count": 4,
   "metadata": {},
   "outputs": [
    {
     "name": "stdout",
     "output_type": "stream",
     "text": [
      "Shape of DataFrame is (3150, 5)\n"
     ]
    }
   ],
   "source": [
    "print('Shape of DataFrame is {}'.format(df.shape))"
   ]
  },
  {
   "cell_type": "code",
   "execution_count": 5,
   "metadata": {},
   "outputs": [
    {
     "name": "stdout",
     "output_type": "stream",
     "text": [
      "<class 'pandas.core.frame.DataFrame'>\n",
      "RangeIndex: 3150 entries, 0 to 3149\n",
      "Data columns (total 5 columns):\n",
      "rating              3150 non-null int64\n",
      "date                3150 non-null object\n",
      "variation           3150 non-null object\n",
      "verified_reviews    3150 non-null object\n",
      "feedback            3150 non-null int64\n",
      "dtypes: int64(2), object(3)\n",
      "memory usage: 123.1+ KB\n"
     ]
    }
   ],
   "source": [
    "df.info()"
   ]
  },
  {
   "cell_type": "code",
   "execution_count": 6,
   "metadata": {},
   "outputs": [
    {
     "data": {
      "text/plain": [
       "Index(['rating', 'date', 'variation', 'verified_reviews', 'feedback'], dtype='object')"
      ]
     },
     "execution_count": 6,
     "metadata": {},
     "output_type": "execute_result"
    }
   ],
   "source": [
    "df.columns"
   ]
  },
  {
   "cell_type": "code",
   "execution_count": 7,
   "metadata": {
    "scrolled": true
   },
   "outputs": [
    {
     "data": {
      "text/html": [
       "<div>\n",
       "<style scoped>\n",
       "    .dataframe tbody tr th:only-of-type {\n",
       "        vertical-align: middle;\n",
       "    }\n",
       "\n",
       "    .dataframe tbody tr th {\n",
       "        vertical-align: top;\n",
       "    }\n",
       "\n",
       "    .dataframe thead th {\n",
       "        text-align: right;\n",
       "    }\n",
       "</style>\n",
       "<table border=\"1\" class=\"dataframe\">\n",
       "  <thead>\n",
       "    <tr style=\"text-align: right;\">\n",
       "      <th></th>\n",
       "      <th>rating</th>\n",
       "      <th>date</th>\n",
       "      <th>variation</th>\n",
       "      <th>verified_reviews</th>\n",
       "      <th>feedback</th>\n",
       "    </tr>\n",
       "  </thead>\n",
       "  <tbody>\n",
       "    <tr>\n",
       "      <th>0</th>\n",
       "      <td>5</td>\n",
       "      <td>31-Jul-18</td>\n",
       "      <td>Charcoal Fabric</td>\n",
       "      <td>Love my Echo!</td>\n",
       "      <td>1</td>\n",
       "    </tr>\n",
       "    <tr>\n",
       "      <th>1</th>\n",
       "      <td>5</td>\n",
       "      <td>31-Jul-18</td>\n",
       "      <td>Charcoal Fabric</td>\n",
       "      <td>Loved it!</td>\n",
       "      <td>1</td>\n",
       "    </tr>\n",
       "    <tr>\n",
       "      <th>2</th>\n",
       "      <td>4</td>\n",
       "      <td>31-Jul-18</td>\n",
       "      <td>Walnut Finish</td>\n",
       "      <td>Sometimes while playing a game, you can answer...</td>\n",
       "      <td>1</td>\n",
       "    </tr>\n",
       "    <tr>\n",
       "      <th>3</th>\n",
       "      <td>5</td>\n",
       "      <td>31-Jul-18</td>\n",
       "      <td>Charcoal Fabric</td>\n",
       "      <td>I have had a lot of fun with this thing. My 4 ...</td>\n",
       "      <td>1</td>\n",
       "    </tr>\n",
       "    <tr>\n",
       "      <th>4</th>\n",
       "      <td>5</td>\n",
       "      <td>31-Jul-18</td>\n",
       "      <td>Charcoal Fabric</td>\n",
       "      <td>Music</td>\n",
       "      <td>1</td>\n",
       "    </tr>\n",
       "  </tbody>\n",
       "</table>\n",
       "</div>"
      ],
      "text/plain": [
       "   rating       date         variation  \\\n",
       "0       5  31-Jul-18  Charcoal Fabric    \n",
       "1       5  31-Jul-18  Charcoal Fabric    \n",
       "2       4  31-Jul-18    Walnut Finish    \n",
       "3       5  31-Jul-18  Charcoal Fabric    \n",
       "4       5  31-Jul-18  Charcoal Fabric    \n",
       "\n",
       "                                    verified_reviews  feedback  \n",
       "0                                      Love my Echo!         1  \n",
       "1                                          Loved it!         1  \n",
       "2  Sometimes while playing a game, you can answer...         1  \n",
       "3  I have had a lot of fun with this thing. My 4 ...         1  \n",
       "4                                              Music         1  "
      ]
     },
     "execution_count": 7,
     "metadata": {},
     "output_type": "execute_result"
    }
   ],
   "source": [
    "df.head()"
   ]
  },
  {
   "cell_type": "code",
   "execution_count": 8,
   "metadata": {},
   "outputs": [
    {
     "data": {
      "text/html": [
       "<div>\n",
       "<style scoped>\n",
       "    .dataframe tbody tr th:only-of-type {\n",
       "        vertical-align: middle;\n",
       "    }\n",
       "\n",
       "    .dataframe tbody tr th {\n",
       "        vertical-align: top;\n",
       "    }\n",
       "\n",
       "    .dataframe thead th {\n",
       "        text-align: right;\n",
       "    }\n",
       "</style>\n",
       "<table border=\"1\" class=\"dataframe\">\n",
       "  <thead>\n",
       "    <tr style=\"text-align: right;\">\n",
       "      <th></th>\n",
       "      <th>rating</th>\n",
       "      <th>feedback</th>\n",
       "    </tr>\n",
       "  </thead>\n",
       "  <tbody>\n",
       "    <tr>\n",
       "      <th>count</th>\n",
       "      <td>3150.000000</td>\n",
       "      <td>3150.000000</td>\n",
       "    </tr>\n",
       "    <tr>\n",
       "      <th>mean</th>\n",
       "      <td>4.463175</td>\n",
       "      <td>0.918413</td>\n",
       "    </tr>\n",
       "    <tr>\n",
       "      <th>std</th>\n",
       "      <td>1.068506</td>\n",
       "      <td>0.273778</td>\n",
       "    </tr>\n",
       "    <tr>\n",
       "      <th>min</th>\n",
       "      <td>1.000000</td>\n",
       "      <td>0.000000</td>\n",
       "    </tr>\n",
       "    <tr>\n",
       "      <th>25%</th>\n",
       "      <td>4.000000</td>\n",
       "      <td>1.000000</td>\n",
       "    </tr>\n",
       "    <tr>\n",
       "      <th>50%</th>\n",
       "      <td>5.000000</td>\n",
       "      <td>1.000000</td>\n",
       "    </tr>\n",
       "    <tr>\n",
       "      <th>75%</th>\n",
       "      <td>5.000000</td>\n",
       "      <td>1.000000</td>\n",
       "    </tr>\n",
       "    <tr>\n",
       "      <th>max</th>\n",
       "      <td>5.000000</td>\n",
       "      <td>1.000000</td>\n",
       "    </tr>\n",
       "  </tbody>\n",
       "</table>\n",
       "</div>"
      ],
      "text/plain": [
       "            rating     feedback\n",
       "count  3150.000000  3150.000000\n",
       "mean      4.463175     0.918413\n",
       "std       1.068506     0.273778\n",
       "min       1.000000     0.000000\n",
       "25%       4.000000     1.000000\n",
       "50%       5.000000     1.000000\n",
       "75%       5.000000     1.000000\n",
       "max       5.000000     1.000000"
      ]
     },
     "execution_count": 8,
     "metadata": {},
     "output_type": "execute_result"
    }
   ],
   "source": [
    "df.describe()"
   ]
  },
  {
   "cell_type": "markdown",
   "metadata": {},
   "source": [
    "#### 1. Rating "
   ]
  },
  {
   "cell_type": "code",
   "execution_count": 9,
   "metadata": {},
   "outputs": [
    {
     "data": {
      "image/png": "[encoded data removed]",
      "text/plain": [
       "<Figure size 432x288 with 1 Axes>"
      ]
     },
     "metadata": {},
     "output_type": "display_data"
    }
   ],
   "source": [
    "sns.set()\n",
    "df['rating'].value_counts().plot(kind='bar')\n",
    "plt.title('Data distribution - Rating')\n",
    "plt.xlabel('Rating Score')\n",
    "plt.show()"
   ]
  },
  {
   "cell_type": "markdown",
   "metadata": {},
   "source": [
    "#### 2. Feedback "
   ]
  },
  {
   "cell_type": "code",
   "execution_count": 11,
   "metadata": {},
   "outputs": [
    {
     "name": "stdout",
     "output_type": "stream",
     "text": [
      "1    2893\n",
      "0     257\n",
      "Name: feedback, dtype: int64\n"
     ]
    },
    {
     "data": {
      "image/png": "[encoded data removed]",
      "text/plain": [
       "<Figure size 432x288 with 1 Axes>"
      ]
     },
     "metadata": {},
     "output_type": "display_data"
    }
   ],
   "source": [
    "print(df['feedback'].value_counts())\n",
    "\n",
    "df['feedback'].value_counts().plot(kind='bar')\n",
    "plt.xlabel('Feedback')\n",
    "plt.ylabel('Frequency')\n",
    "plt.title('Data Distribution - Feedback')\n",
    "plt.show()"
   ]
  },
  {
   "cell_type": "markdown",
   "metadata": {},
   "source": [
    "<p><b>Analysis:</b> The result shows that most reviews are positive. So the dataset is very imbalanced.</p>"
   ]
  },
  {
   "cell_type": "code",
   "execution_count": 12,
   "metadata": {},
   "outputs": [
    {
     "data": {
      "text/plain": [
       "Text(0.5, 1.0, 'Relationship between Rating and Feedback')"
      ]
     },
     "execution_count": 12,
     "metadata": {},
     "output_type": "execute_result"
    },
    {
     "data": {
      "image/png": "[encoded data removed]",
      "text/plain": [
       "<Figure size 432x288 with 1 Axes>"
      ]
     },
     "metadata": {},
     "output_type": "display_data"
    }
   ],
   "source": [
    "ax = sns.barplot(x=\"rating\", y='feedback',data=df)\n",
    "ax.set_title('Relationship between Rating and Feedback')\n"
   ]
  },
  {
   "cell_type": "code",
   "execution_count": 13,
   "metadata": {},
   "outputs": [
    {
     "data": {
      "text/plain": [
       "Text(0.5, 1.0, 'Relationship between Rating and Feedback')"
      ]
     },
     "execution_count": 13,
     "metadata": {},
     "output_type": "execute_result"
    },
    {
     "data": {
      "image/png": "[encoded data removed]",
      "text/plain": [
       "<Figure size 432x288 with 1 Axes>"
      ]
     },
     "metadata": {},
     "output_type": "display_data"
    }
   ],
   "source": [
    "ax = sns.scatterplot(x='rating',y='rating',hue='feedback',data=df)\n",
    "ax.set_title('Relationship between Rating and Feedback')"
   ]
  },
  {
   "cell_type": "markdown",
   "metadata": {},
   "source": [
    "<b>Analysis:</b>The result shows that the reviews which have rating score under 3 are negtive review, and those have rating score greater or equal to 3 are positive. "
   ]
  },
  {
   "cell_type": "markdown",
   "metadata": {},
   "source": [
    "#### 3. variation "
   ]
  },
  {
   "cell_type": "code",
   "execution_count": 14,
   "metadata": {},
   "outputs": [
    {
     "data": {
      "text/plain": [
       "array(['Charcoal Fabric ', 'Walnut Finish ', 'Heather Gray Fabric ',\n",
       "       'Sandstone Fabric ', 'Oak Finish ', 'Black', 'White',\n",
       "       'Black  Spot', 'White  Spot', 'Black  Show', 'White  Show',\n",
       "       'Black  Plus', 'White  Plus', 'Configuration: Fire TV Stick',\n",
       "       'Black  Dot', 'White  Dot'], dtype=object)"
      ]
     },
     "execution_count": 14,
     "metadata": {},
     "output_type": "execute_result"
    }
   ],
   "source": [
    "df['variation'].unique()"
   ]
  },
  {
   "cell_type": "code",
   "execution_count": 15,
   "metadata": {
    "scrolled": true
   },
   "outputs": [
    {
     "data": {
      "text/plain": [
       "Black  Dot                      516\n",
       "Charcoal Fabric                 430\n",
       "Configuration: Fire TV Stick    350\n",
       "Black  Plus                     270\n",
       "Black  Show                     265\n",
       "Black                           261\n",
       "Black  Spot                     241\n",
       "White  Dot                      184\n",
       "Heather Gray Fabric             157\n",
       "White  Spot                     109\n",
       "White                            91\n",
       "Sandstone Fabric                 90\n",
       "White  Show                      85\n",
       "White  Plus                      78\n",
       "Oak Finish                       14\n",
       "Walnut Finish                     9\n",
       "Name: variation, dtype: int64"
      ]
     },
     "execution_count": 15,
     "metadata": {},
     "output_type": "execute_result"
    }
   ],
   "source": [
    "df['variation'].value_counts(dropna=False)"
   ]
  },
  {
   "cell_type": "code",
   "execution_count": 18,
   "metadata": {},
   "outputs": [],
   "source": [
    "def FN(x):\n",
    "    AB=''\n",
    "    L=x.split()    \n",
    "    for c in L:        \n",
    "        AB += c[0]\n",
    "    return AB"
   ]
  },
  {
   "cell_type": "code",
   "execution_count": 19,
   "metadata": {},
   "outputs": [
    {
     "name": "stdout",
     "output_type": "stream",
     "text": [
      "   rating       date         variation  \\\n",
      "0       5  31-Jul-18  Charcoal Fabric    \n",
      "1       5  31-Jul-18  Charcoal Fabric    \n",
      "2       4  31-Jul-18    Walnut Finish    \n",
      "3       5  31-Jul-18  Charcoal Fabric    \n",
      "4       5  31-Jul-18  Charcoal Fabric    \n",
      "\n",
      "                                    verified_reviews  feedback Ab_variation  \n",
      "0                                      Love my Echo!         1           CF  \n",
      "1                                          Loved it!         1           CF  \n",
      "2  Sometimes while playing a game, you can answer...         1           WF  \n",
      "3  I have had a lot of fun with this thing. My 4 ...         1           CF  \n",
      "4                                              Music         1           CF  \n"
     ]
    }
   ],
   "source": [
    "df['Ab_variation']=[FN(x) for x in df['variation']]\n",
    "print(df.head())"
   ]
  },
  {
   "cell_type": "code",
   "execution_count": 23,
   "metadata": {},
   "outputs": [
    {
     "data": {
      "image/png": "[encoded data removed]",
      "text/plain": [
       "<Figure size 720x360 with 1 Axes>"
      ]
     },
     "metadata": {},
     "output_type": "display_data"
    }
   ],
   "source": [
    "plt.figure(figsize=(10,5))\n",
    "df['variation'].value_counts().plot(kind='barh')\n",
    "plt.xlabel('Frequency')\n",
    "plt.ylabel('Variation')\n",
    "plt.title('The frequency of each variation')\n",
    "plt.show()"
   ]
  },
  {
   "cell_type": "markdown",
   "metadata": {},
   "source": [
    "<b>Analysis:</b> The plot shows the requency distribution of each variation of Alexa, which gives a clue what variations sell well. it is found Black Dot could be the one has the higest sale, but weather both the rating and review for it are also good need to be investigated further. Will do it next."
   ]
  },
  {
   "cell_type": "code",
   "execution_count": 21,
   "metadata": {},
   "outputs": [
    {
     "data": {
      "image/png": "[encoded data removed]",
      "text/plain": [
       "<Figure size 720x360 with 1 Axes>"
      ]
     },
     "metadata": {},
     "output_type": "display_data"
    }
   ],
   "source": [
    "plt.figure(figsize=(10,5))\n",
    "ax = sns.boxplot(x=\"Ab_variation\", y=\"rating\", hue=\"feedback\",data=df, palette=\"Set3\")"
   ]
  },
  {
   "cell_type": "markdown",
   "metadata": {},
   "source": [
    "<b>Analysis:</b> Based on the plot, it is found that White Finish (WF), Ock Finish (OF) have no negative review and rating. Heather Gray Fabric (HGF) also has much less negative review. But as we known from the plot above, these three variations could have low sales, which could cause they have much less or no negative review. So this does not mean these three variations are more popular than the others. We need to see the sales of each variation to make conclusion.  "
   ]
  },
  {
   "cell_type": "code",
   "execution_count": 24,
   "metadata": {},
   "outputs": [
    {
     "data": {
      "image/png": "[encoded data removed]",
      "text/plain": [
       "<Figure size 720x360 with 1 Axes>"
      ]
     },
     "metadata": {},
     "output_type": "display_data"
    }
   ],
   "source": [
    "df.groupby('variation').mean()[['rating']].plot.barh(figsize=(10,5))\n",
    "plt.title(\"Variation wise Mean Ratings\");"
   ]
  },
  {
   "cell_type": "markdown",
   "metadata": {},
   "source": [
    "<b>Analysis:</b> Based on the comprehensive analysis of the these plots above, it is found that White Dot,Black Dot, Walnut Finish, Oak Finish, Heather Gray Fabric higher rating score. But Walnut Finish, Oak Finish, Heather Gray Fabric have small sale quantity. White Dot has higher rating score than Black Dot, but has less sale quantity than Black Dot. So based on comprehensive analysis, White Dot and Black Dot are the most popular variations."
   ]
  },
  {
   "cell_type": "markdown",
   "metadata": {},
   "source": [
    "#### 4. verified_reviews "
   ]
  },
  {
   "cell_type": "code",
   "execution_count": 26,
   "metadata": {},
   "outputs": [
    {
     "name": "stdout",
     "output_type": "stream",
     "text": [
      "0                                        Love my Echo!\n",
      "1                                            Loved it!\n",
      "2    Sometimes while playing a game, you can answer...\n",
      "3    I have had a lot of fun with this thing. My 4 ...\n",
      "4                                                Music\n",
      "Name: verified_reviews, dtype: object\n"
     ]
    }
   ],
   "source": [
    "df['verified_reviews'].str.strip()\n",
    "print(df['verified_reviews'].head())"
   ]
  },
  {
   "cell_type": "code",
   "execution_count": 27,
   "metadata": {},
   "outputs": [
    {
     "data": {
      "text/html": [
       "<div>\n",
       "<style scoped>\n",
       "    .dataframe tbody tr th:only-of-type {\n",
       "        vertical-align: middle;\n",
       "    }\n",
       "\n",
       "    .dataframe tbody tr th {\n",
       "        vertical-align: top;\n",
       "    }\n",
       "\n",
       "    .dataframe thead th {\n",
       "        text-align: right;\n",
       "    }\n",
       "</style>\n",
       "<table border=\"1\" class=\"dataframe\">\n",
       "  <thead>\n",
       "    <tr style=\"text-align: right;\">\n",
       "      <th></th>\n",
       "      <th>rating</th>\n",
       "      <th>date</th>\n",
       "      <th>variation</th>\n",
       "      <th>verified_reviews</th>\n",
       "      <th>feedback</th>\n",
       "      <th>Ab_variation</th>\n",
       "    </tr>\n",
       "  </thead>\n",
       "  <tbody>\n",
       "    <tr>\n",
       "      <th>85</th>\n",
       "      <td>5</td>\n",
       "      <td>30-Jul-18</td>\n",
       "      <td>Heather Gray Fabric</td>\n",
       "      <td></td>\n",
       "      <td>1</td>\n",
       "      <td>HGF</td>\n",
       "    </tr>\n",
       "    <tr>\n",
       "      <th>183</th>\n",
       "      <td>3</td>\n",
       "      <td>29-Jul-18</td>\n",
       "      <td>Heather Gray Fabric</td>\n",
       "      <td></td>\n",
       "      <td>1</td>\n",
       "      <td>HGF</td>\n",
       "    </tr>\n",
       "    <tr>\n",
       "      <th>219</th>\n",
       "      <td>5</td>\n",
       "      <td>29-Jul-18</td>\n",
       "      <td>Sandstone Fabric</td>\n",
       "      <td></td>\n",
       "      <td>1</td>\n",
       "      <td>SF</td>\n",
       "    </tr>\n",
       "    <tr>\n",
       "      <th>374</th>\n",
       "      <td>1</td>\n",
       "      <td>26-Jul-18</td>\n",
       "      <td>Black</td>\n",
       "      <td></td>\n",
       "      <td>0</td>\n",
       "      <td>B</td>\n",
       "    </tr>\n",
       "    <tr>\n",
       "      <th>406</th>\n",
       "      <td>1</td>\n",
       "      <td>16-Jul-18</td>\n",
       "      <td>White</td>\n",
       "      <td></td>\n",
       "      <td>0</td>\n",
       "      <td>W</td>\n",
       "    </tr>\n",
       "    <tr>\n",
       "      <th>524</th>\n",
       "      <td>2</td>\n",
       "      <td>20-Jun-18</td>\n",
       "      <td>White</td>\n",
       "      <td></td>\n",
       "      <td>0</td>\n",
       "      <td>W</td>\n",
       "    </tr>\n",
       "    <tr>\n",
       "      <th>654</th>\n",
       "      <td>5</td>\n",
       "      <td>26-May-18</td>\n",
       "      <td>Black</td>\n",
       "      <td></td>\n",
       "      <td>1</td>\n",
       "      <td>B</td>\n",
       "    </tr>\n",
       "    <tr>\n",
       "      <th>780</th>\n",
       "      <td>5</td>\n",
       "      <td>30-Jul-18</td>\n",
       "      <td>Heather Gray Fabric</td>\n",
       "      <td></td>\n",
       "      <td>1</td>\n",
       "      <td>HGF</td>\n",
       "    </tr>\n",
       "    <tr>\n",
       "      <th>878</th>\n",
       "      <td>3</td>\n",
       "      <td>29-Jul-18</td>\n",
       "      <td>Heather Gray Fabric</td>\n",
       "      <td></td>\n",
       "      <td>1</td>\n",
       "      <td>HGF</td>\n",
       "    </tr>\n",
       "    <tr>\n",
       "      <th>914</th>\n",
       "      <td>5</td>\n",
       "      <td>29-Jul-18</td>\n",
       "      <td>Sandstone Fabric</td>\n",
       "      <td></td>\n",
       "      <td>1</td>\n",
       "      <td>SF</td>\n",
       "    </tr>\n",
       "    <tr>\n",
       "      <th>1094</th>\n",
       "      <td>1</td>\n",
       "      <td>30-Jul-18</td>\n",
       "      <td>White  Spot</td>\n",
       "      <td></td>\n",
       "      <td>0</td>\n",
       "      <td>WS</td>\n",
       "    </tr>\n",
       "    <tr>\n",
       "      <th>1112</th>\n",
       "      <td>1</td>\n",
       "      <td>30-Jul-18</td>\n",
       "      <td>White  Spot</td>\n",
       "      <td></td>\n",
       "      <td>0</td>\n",
       "      <td>WS</td>\n",
       "    </tr>\n",
       "    <tr>\n",
       "      <th>1119</th>\n",
       "      <td>1</td>\n",
       "      <td>29-Jul-18</td>\n",
       "      <td>White  Spot</td>\n",
       "      <td></td>\n",
       "      <td>0</td>\n",
       "      <td>WS</td>\n",
       "    </tr>\n",
       "    <tr>\n",
       "      <th>1150</th>\n",
       "      <td>1</td>\n",
       "      <td>29-Jul-18</td>\n",
       "      <td>Black  Spot</td>\n",
       "      <td></td>\n",
       "      <td>0</td>\n",
       "      <td>BS</td>\n",
       "    </tr>\n",
       "    <tr>\n",
       "      <th>1151</th>\n",
       "      <td>5</td>\n",
       "      <td>29-Jul-18</td>\n",
       "      <td>White  Spot</td>\n",
       "      <td></td>\n",
       "      <td>1</td>\n",
       "      <td>WS</td>\n",
       "    </tr>\n",
       "    <tr>\n",
       "      <th>1275</th>\n",
       "      <td>4</td>\n",
       "      <td>24-Jul-18</td>\n",
       "      <td>White  Spot</td>\n",
       "      <td></td>\n",
       "      <td>1</td>\n",
       "      <td>WS</td>\n",
       "    </tr>\n",
       "    <tr>\n",
       "      <th>1321</th>\n",
       "      <td>5</td>\n",
       "      <td>21-Jul-18</td>\n",
       "      <td>Black  Spot</td>\n",
       "      <td></td>\n",
       "      <td>1</td>\n",
       "      <td>BS</td>\n",
       "    </tr>\n",
       "    <tr>\n",
       "      <th>1354</th>\n",
       "      <td>5</td>\n",
       "      <td>19-Jul-18</td>\n",
       "      <td>Black  Spot</td>\n",
       "      <td></td>\n",
       "      <td>1</td>\n",
       "      <td>BS</td>\n",
       "    </tr>\n",
       "    <tr>\n",
       "      <th>1360</th>\n",
       "      <td>3</td>\n",
       "      <td>19-Jul-18</td>\n",
       "      <td>Black  Spot</td>\n",
       "      <td></td>\n",
       "      <td>1</td>\n",
       "      <td>BS</td>\n",
       "    </tr>\n",
       "    <tr>\n",
       "      <th>1385</th>\n",
       "      <td>5</td>\n",
       "      <td>17-Jul-18</td>\n",
       "      <td>Black  Spot</td>\n",
       "      <td></td>\n",
       "      <td>1</td>\n",
       "      <td>BS</td>\n",
       "    </tr>\n",
       "    <tr>\n",
       "      <th>1389</th>\n",
       "      <td>1</td>\n",
       "      <td>16-Jul-18</td>\n",
       "      <td>Black  Spot</td>\n",
       "      <td></td>\n",
       "      <td>0</td>\n",
       "      <td>BS</td>\n",
       "    </tr>\n",
       "    <tr>\n",
       "      <th>1420</th>\n",
       "      <td>5</td>\n",
       "      <td>30-Jul-18</td>\n",
       "      <td>White  Show</td>\n",
       "      <td></td>\n",
       "      <td>1</td>\n",
       "      <td>WS</td>\n",
       "    </tr>\n",
       "    <tr>\n",
       "      <th>1447</th>\n",
       "      <td>1</td>\n",
       "      <td>30-Jul-18</td>\n",
       "      <td>White  Show</td>\n",
       "      <td></td>\n",
       "      <td>0</td>\n",
       "      <td>WS</td>\n",
       "    </tr>\n",
       "    <tr>\n",
       "      <th>1461</th>\n",
       "      <td>5</td>\n",
       "      <td>30-Jul-18</td>\n",
       "      <td>Black  Show</td>\n",
       "      <td></td>\n",
       "      <td>1</td>\n",
       "      <td>BS</td>\n",
       "    </tr>\n",
       "    <tr>\n",
       "      <th>1513</th>\n",
       "      <td>5</td>\n",
       "      <td>30-Jul-18</td>\n",
       "      <td>Black  Show</td>\n",
       "      <td></td>\n",
       "      <td>1</td>\n",
       "      <td>BS</td>\n",
       "    </tr>\n",
       "    <tr>\n",
       "      <th>1558</th>\n",
       "      <td>1</td>\n",
       "      <td>30-Jul-18</td>\n",
       "      <td>Black  Show</td>\n",
       "      <td></td>\n",
       "      <td>0</td>\n",
       "      <td>BS</td>\n",
       "    </tr>\n",
       "    <tr>\n",
       "      <th>1577</th>\n",
       "      <td>5</td>\n",
       "      <td>29-Jul-18</td>\n",
       "      <td>White  Show</td>\n",
       "      <td></td>\n",
       "      <td>1</td>\n",
       "      <td>WS</td>\n",
       "    </tr>\n",
       "    <tr>\n",
       "      <th>1581</th>\n",
       "      <td>5</td>\n",
       "      <td>29-Jul-18</td>\n",
       "      <td>Black  Show</td>\n",
       "      <td></td>\n",
       "      <td>1</td>\n",
       "      <td>BS</td>\n",
       "    </tr>\n",
       "    <tr>\n",
       "      <th>1614</th>\n",
       "      <td>5</td>\n",
       "      <td>29-Jul-18</td>\n",
       "      <td>Black  Show</td>\n",
       "      <td></td>\n",
       "      <td>1</td>\n",
       "      <td>BS</td>\n",
       "    </tr>\n",
       "    <tr>\n",
       "      <th>1728</th>\n",
       "      <td>5</td>\n",
       "      <td>28-Jul-18</td>\n",
       "      <td>Black  Show</td>\n",
       "      <td></td>\n",
       "      <td>1</td>\n",
       "      <td>BS</td>\n",
       "    </tr>\n",
       "    <tr>\n",
       "      <th>...</th>\n",
       "      <td>...</td>\n",
       "      <td>...</td>\n",
       "      <td>...</td>\n",
       "      <td>...</td>\n",
       "      <td>...</td>\n",
       "      <td>...</td>\n",
       "    </tr>\n",
       "    <tr>\n",
       "      <th>2221</th>\n",
       "      <td>1</td>\n",
       "      <td>30-Jul-18</td>\n",
       "      <td>Configuration: Fire TV Stick</td>\n",
       "      <td></td>\n",
       "      <td>0</td>\n",
       "      <td>CFTS</td>\n",
       "    </tr>\n",
       "    <tr>\n",
       "      <th>2244</th>\n",
       "      <td>2</td>\n",
       "      <td>30-Jul-18</td>\n",
       "      <td>Configuration: Fire TV Stick</td>\n",
       "      <td></td>\n",
       "      <td>0</td>\n",
       "      <td>CFTS</td>\n",
       "    </tr>\n",
       "    <tr>\n",
       "      <th>2359</th>\n",
       "      <td>5</td>\n",
       "      <td>30-Jul-18</td>\n",
       "      <td>Configuration: Fire TV Stick</td>\n",
       "      <td></td>\n",
       "      <td>1</td>\n",
       "      <td>CFTS</td>\n",
       "    </tr>\n",
       "    <tr>\n",
       "      <th>2430</th>\n",
       "      <td>4</td>\n",
       "      <td>30-Jul-18</td>\n",
       "      <td>Configuration: Fire TV Stick</td>\n",
       "      <td></td>\n",
       "      <td>1</td>\n",
       "      <td>CFTS</td>\n",
       "    </tr>\n",
       "    <tr>\n",
       "      <th>2455</th>\n",
       "      <td>5</td>\n",
       "      <td>31-Jul-18</td>\n",
       "      <td>Black  Dot</td>\n",
       "      <td></td>\n",
       "      <td>1</td>\n",
       "      <td>BD</td>\n",
       "    </tr>\n",
       "    <tr>\n",
       "      <th>2510</th>\n",
       "      <td>5</td>\n",
       "      <td>30-Jul-18</td>\n",
       "      <td>Black  Dot</td>\n",
       "      <td></td>\n",
       "      <td>1</td>\n",
       "      <td>BD</td>\n",
       "    </tr>\n",
       "    <tr>\n",
       "      <th>2525</th>\n",
       "      <td>1</td>\n",
       "      <td>30-Jul-18</td>\n",
       "      <td>Black  Dot</td>\n",
       "      <td></td>\n",
       "      <td>0</td>\n",
       "      <td>BD</td>\n",
       "    </tr>\n",
       "    <tr>\n",
       "      <th>2567</th>\n",
       "      <td>3</td>\n",
       "      <td>30-Jul-18</td>\n",
       "      <td>White  Dot</td>\n",
       "      <td></td>\n",
       "      <td>1</td>\n",
       "      <td>WD</td>\n",
       "    </tr>\n",
       "    <tr>\n",
       "      <th>2627</th>\n",
       "      <td>5</td>\n",
       "      <td>30-Jul-18</td>\n",
       "      <td>Black  Dot</td>\n",
       "      <td></td>\n",
       "      <td>1</td>\n",
       "      <td>BD</td>\n",
       "    </tr>\n",
       "    <tr>\n",
       "      <th>2628</th>\n",
       "      <td>1</td>\n",
       "      <td>30-Jul-18</td>\n",
       "      <td>White  Dot</td>\n",
       "      <td></td>\n",
       "      <td>0</td>\n",
       "      <td>WD</td>\n",
       "    </tr>\n",
       "    <tr>\n",
       "      <th>2662</th>\n",
       "      <td>4</td>\n",
       "      <td>30-Jul-18</td>\n",
       "      <td>Black  Dot</td>\n",
       "      <td></td>\n",
       "      <td>1</td>\n",
       "      <td>BD</td>\n",
       "    </tr>\n",
       "    <tr>\n",
       "      <th>2732</th>\n",
       "      <td>5</td>\n",
       "      <td>30-Jul-18</td>\n",
       "      <td>Black  Dot</td>\n",
       "      <td></td>\n",
       "      <td>1</td>\n",
       "      <td>BD</td>\n",
       "    </tr>\n",
       "    <tr>\n",
       "      <th>2763</th>\n",
       "      <td>3</td>\n",
       "      <td>30-Jul-18</td>\n",
       "      <td>Black  Dot</td>\n",
       "      <td></td>\n",
       "      <td>1</td>\n",
       "      <td>BD</td>\n",
       "    </tr>\n",
       "    <tr>\n",
       "      <th>2769</th>\n",
       "      <td>5</td>\n",
       "      <td>30-Jul-18</td>\n",
       "      <td>Black  Dot</td>\n",
       "      <td></td>\n",
       "      <td>1</td>\n",
       "      <td>BD</td>\n",
       "    </tr>\n",
       "    <tr>\n",
       "      <th>2772</th>\n",
       "      <td>4</td>\n",
       "      <td>30-Jul-18</td>\n",
       "      <td>Black  Dot</td>\n",
       "      <td></td>\n",
       "      <td>1</td>\n",
       "      <td>BD</td>\n",
       "    </tr>\n",
       "    <tr>\n",
       "      <th>2775</th>\n",
       "      <td>5</td>\n",
       "      <td>30-Jul-18</td>\n",
       "      <td>Black  Dot</td>\n",
       "      <td></td>\n",
       "      <td>1</td>\n",
       "      <td>BD</td>\n",
       "    </tr>\n",
       "    <tr>\n",
       "      <th>2790</th>\n",
       "      <td>3</td>\n",
       "      <td>30-Jul-18</td>\n",
       "      <td>Black  Dot</td>\n",
       "      <td></td>\n",
       "      <td>1</td>\n",
       "      <td>BD</td>\n",
       "    </tr>\n",
       "    <tr>\n",
       "      <th>2806</th>\n",
       "      <td>5</td>\n",
       "      <td>31-Jul-18</td>\n",
       "      <td>Black  Dot</td>\n",
       "      <td></td>\n",
       "      <td>1</td>\n",
       "      <td>BD</td>\n",
       "    </tr>\n",
       "    <tr>\n",
       "      <th>2861</th>\n",
       "      <td>5</td>\n",
       "      <td>30-Jul-18</td>\n",
       "      <td>Black  Dot</td>\n",
       "      <td></td>\n",
       "      <td>1</td>\n",
       "      <td>BD</td>\n",
       "    </tr>\n",
       "    <tr>\n",
       "      <th>2876</th>\n",
       "      <td>1</td>\n",
       "      <td>30-Jul-18</td>\n",
       "      <td>Black  Dot</td>\n",
       "      <td></td>\n",
       "      <td>0</td>\n",
       "      <td>BD</td>\n",
       "    </tr>\n",
       "    <tr>\n",
       "      <th>2918</th>\n",
       "      <td>3</td>\n",
       "      <td>30-Jul-18</td>\n",
       "      <td>White  Dot</td>\n",
       "      <td></td>\n",
       "      <td>1</td>\n",
       "      <td>WD</td>\n",
       "    </tr>\n",
       "    <tr>\n",
       "      <th>2978</th>\n",
       "      <td>5</td>\n",
       "      <td>30-Jul-18</td>\n",
       "      <td>Black  Dot</td>\n",
       "      <td></td>\n",
       "      <td>1</td>\n",
       "      <td>BD</td>\n",
       "    </tr>\n",
       "    <tr>\n",
       "      <th>2979</th>\n",
       "      <td>1</td>\n",
       "      <td>30-Jul-18</td>\n",
       "      <td>White  Dot</td>\n",
       "      <td></td>\n",
       "      <td>0</td>\n",
       "      <td>WD</td>\n",
       "    </tr>\n",
       "    <tr>\n",
       "      <th>3013</th>\n",
       "      <td>4</td>\n",
       "      <td>30-Jul-18</td>\n",
       "      <td>Black  Dot</td>\n",
       "      <td></td>\n",
       "      <td>1</td>\n",
       "      <td>BD</td>\n",
       "    </tr>\n",
       "    <tr>\n",
       "      <th>3083</th>\n",
       "      <td>5</td>\n",
       "      <td>30-Jul-18</td>\n",
       "      <td>Black  Dot</td>\n",
       "      <td></td>\n",
       "      <td>1</td>\n",
       "      <td>BD</td>\n",
       "    </tr>\n",
       "    <tr>\n",
       "      <th>3114</th>\n",
       "      <td>3</td>\n",
       "      <td>30-Jul-18</td>\n",
       "      <td>Black  Dot</td>\n",
       "      <td></td>\n",
       "      <td>1</td>\n",
       "      <td>BD</td>\n",
       "    </tr>\n",
       "    <tr>\n",
       "      <th>3120</th>\n",
       "      <td>5</td>\n",
       "      <td>30-Jul-18</td>\n",
       "      <td>Black  Dot</td>\n",
       "      <td></td>\n",
       "      <td>1</td>\n",
       "      <td>BD</td>\n",
       "    </tr>\n",
       "    <tr>\n",
       "      <th>3123</th>\n",
       "      <td>4</td>\n",
       "      <td>30-Jul-18</td>\n",
       "      <td>Black  Dot</td>\n",
       "      <td></td>\n",
       "      <td>1</td>\n",
       "      <td>BD</td>\n",
       "    </tr>\n",
       "    <tr>\n",
       "      <th>3126</th>\n",
       "      <td>5</td>\n",
       "      <td>30-Jul-18</td>\n",
       "      <td>Black  Dot</td>\n",
       "      <td></td>\n",
       "      <td>1</td>\n",
       "      <td>BD</td>\n",
       "    </tr>\n",
       "    <tr>\n",
       "      <th>3141</th>\n",
       "      <td>3</td>\n",
       "      <td>30-Jul-18</td>\n",
       "      <td>Black  Dot</td>\n",
       "      <td></td>\n",
       "      <td>1</td>\n",
       "      <td>BD</td>\n",
       "    </tr>\n",
       "  </tbody>\n",
       "</table>\n",
       "<p>79 rows × 6 columns</p>\n",
       "</div>"
      ],
      "text/plain": [
       "      rating       date                     variation verified_reviews  \\\n",
       "85         5  30-Jul-18          Heather Gray Fabric                     \n",
       "183        3  29-Jul-18          Heather Gray Fabric                     \n",
       "219        5  29-Jul-18             Sandstone Fabric                     \n",
       "374        1  26-Jul-18                         Black                    \n",
       "406        1  16-Jul-18                         White                    \n",
       "524        2  20-Jun-18                         White                    \n",
       "654        5  26-May-18                         Black                    \n",
       "780        5  30-Jul-18          Heather Gray Fabric                     \n",
       "878        3  29-Jul-18          Heather Gray Fabric                     \n",
       "914        5  29-Jul-18             Sandstone Fabric                     \n",
       "1094       1  30-Jul-18                   White  Spot                    \n",
       "1112       1  30-Jul-18                   White  Spot                    \n",
       "1119       1  29-Jul-18                   White  Spot                    \n",
       "1150       1  29-Jul-18                   Black  Spot                    \n",
       "1151       5  29-Jul-18                   White  Spot                    \n",
       "1275       4  24-Jul-18                   White  Spot                    \n",
       "1321       5  21-Jul-18                   Black  Spot                    \n",
       "1354       5  19-Jul-18                   Black  Spot                    \n",
       "1360       3  19-Jul-18                   Black  Spot                    \n",
       "1385       5  17-Jul-18                   Black  Spot                    \n",
       "1389       1  16-Jul-18                   Black  Spot                    \n",
       "1420       5  30-Jul-18                   White  Show                    \n",
       "1447       1  30-Jul-18                   White  Show                    \n",
       "1461       5  30-Jul-18                   Black  Show                    \n",
       "1513       5  30-Jul-18                   Black  Show                    \n",
       "1558       1  30-Jul-18                   Black  Show                    \n",
       "1577       5  29-Jul-18                   White  Show                    \n",
       "1581       5  29-Jul-18                   Black  Show                    \n",
       "1614       5  29-Jul-18                   Black  Show                    \n",
       "1728       5  28-Jul-18                   Black  Show                    \n",
       "...      ...        ...                           ...              ...   \n",
       "2221       1  30-Jul-18  Configuration: Fire TV Stick                    \n",
       "2244       2  30-Jul-18  Configuration: Fire TV Stick                    \n",
       "2359       5  30-Jul-18  Configuration: Fire TV Stick                    \n",
       "2430       4  30-Jul-18  Configuration: Fire TV Stick                    \n",
       "2455       5  31-Jul-18                    Black  Dot                    \n",
       "2510       5  30-Jul-18                    Black  Dot                    \n",
       "2525       1  30-Jul-18                    Black  Dot                    \n",
       "2567       3  30-Jul-18                    White  Dot                    \n",
       "2627       5  30-Jul-18                    Black  Dot                    \n",
       "2628       1  30-Jul-18                    White  Dot                    \n",
       "2662       4  30-Jul-18                    Black  Dot                    \n",
       "2732       5  30-Jul-18                    Black  Dot                    \n",
       "2763       3  30-Jul-18                    Black  Dot                    \n",
       "2769       5  30-Jul-18                    Black  Dot                    \n",
       "2772       4  30-Jul-18                    Black  Dot                    \n",
       "2775       5  30-Jul-18                    Black  Dot                    \n",
       "2790       3  30-Jul-18                    Black  Dot                    \n",
       "2806       5  31-Jul-18                    Black  Dot                    \n",
       "2861       5  30-Jul-18                    Black  Dot                    \n",
       "2876       1  30-Jul-18                    Black  Dot                    \n",
       "2918       3  30-Jul-18                    White  Dot                    \n",
       "2978       5  30-Jul-18                    Black  Dot                    \n",
       "2979       1  30-Jul-18                    White  Dot                    \n",
       "3013       4  30-Jul-18                    Black  Dot                    \n",
       "3083       5  30-Jul-18                    Black  Dot                    \n",
       "3114       3  30-Jul-18                    Black  Dot                    \n",
       "3120       5  30-Jul-18                    Black  Dot                    \n",
       "3123       4  30-Jul-18                    Black  Dot                    \n",
       "3126       5  30-Jul-18                    Black  Dot                    \n",
       "3141       3  30-Jul-18                    Black  Dot                    \n",
       "\n",
       "      feedback Ab_variation  \n",
       "85           1          HGF  \n",
       "183          1          HGF  \n",
       "219          1           SF  \n",
       "374          0            B  \n",
       "406          0            W  \n",
       "524          0            W  \n",
       "654          1            B  \n",
       "780          1          HGF  \n",
       "878          1          HGF  \n",
       "914          1           SF  \n",
       "1094         0           WS  \n",
       "1112         0           WS  \n",
       "1119         0           WS  \n",
       "1150         0           BS  \n",
       "1151         1           WS  \n",
       "1275         1           WS  \n",
       "1321         1           BS  \n",
       "1354         1           BS  \n",
       "1360         1           BS  \n",
       "1385         1           BS  \n",
       "1389         0           BS  \n",
       "1420         1           WS  \n",
       "1447         0           WS  \n",
       "1461         1           BS  \n",
       "1513         1           BS  \n",
       "1558         0           BS  \n",
       "1577         1           WS  \n",
       "1581         1           BS  \n",
       "1614         1           BS  \n",
       "1728         1           BS  \n",
       "...        ...          ...  \n",
       "2221         0         CFTS  \n",
       "2244         0         CFTS  \n",
       "2359         1         CFTS  \n",
       "2430         1         CFTS  \n",
       "2455         1           BD  \n",
       "2510         1           BD  \n",
       "2525         0           BD  \n",
       "2567         1           WD  \n",
       "2627         1           BD  \n",
       "2628         0           WD  \n",
       "2662         1           BD  \n",
       "2732         1           BD  \n",
       "2763         1           BD  \n",
       "2769         1           BD  \n",
       "2772         1           BD  \n",
       "2775         1           BD  \n",
       "2790         1           BD  \n",
       "2806         1           BD  \n",
       "2861         1           BD  \n",
       "2876         0           BD  \n",
       "2918         1           WD  \n",
       "2978         1           BD  \n",
       "2979         0           WD  \n",
       "3013         1           BD  \n",
       "3083         1           BD  \n",
       "3114         1           BD  \n",
       "3120         1           BD  \n",
       "3123         1           BD  \n",
       "3126         1           BD  \n",
       "3141         1           BD  \n",
       "\n",
       "[79 rows x 6 columns]"
      ]
     },
     "execution_count": 27,
     "metadata": {},
     "output_type": "execute_result"
    }
   ],
   "source": [
    "df.loc[df['verified_reviews']==' ']"
   ]
  },
  {
   "cell_type": "markdown",
   "metadata": {},
   "source": [
    "<b>Analysis:</b> As we can see, the missing values in \"verified_reviews\" column are replaced with \" \". This does make sense for sentiment analysis.."
   ]
  },
  {
   "cell_type": "code",
   "execution_count": 22,
   "metadata": {},
   "outputs": [
    {
     "data": {
      "text/plain": [
       "rating              0\n",
       "date                0\n",
       "variation           0\n",
       "verified_reviews    0\n",
       "feedback            0\n",
       "Ab_variation        0\n",
       "dtype: int64"
      ]
     },
     "execution_count": 22,
     "metadata": {},
     "output_type": "execute_result"
    }
   ],
   "source": [
    "test.isnull().sum()"
   ]
  },
  {
   "cell_type": "code",
   "execution_count": 28,
   "metadata": {},
   "outputs": [
    {
     "name": "stdout",
     "output_type": "stream",
     "text": [
      "   rating       date         variation  \\\n",
      "0       5  31-Jul-18  Charcoal Fabric    \n",
      "1       5  31-Jul-18  Charcoal Fabric    \n",
      "2       4  31-Jul-18    Walnut Finish    \n",
      "3       5  31-Jul-18  Charcoal Fabric    \n",
      "4       5  31-Jul-18  Charcoal Fabric    \n",
      "\n",
      "                                    verified_reviews  feedback Ab_variation  \\\n",
      "0                                      Love my Echo!         1           CF   \n",
      "1                                          Loved it!         1           CF   \n",
      "2  Sometimes while playing a game, you can answer...         1           WF   \n",
      "3  I have had a lot of fun with this thing. My 4 ...         1           CF   \n",
      "4                                              Music         1           CF   \n",
      "\n",
      "   review_length  \n",
      "0             13  \n",
      "1              9  \n",
      "2            195  \n",
      "3            172  \n",
      "4              5  \n"
     ]
    }
   ],
   "source": [
    "df['review_length']=df['verified_reviews'].str.len()\n",
    "print(df.head())"
   ]
  },
  {
   "cell_type": "code",
   "execution_count": 29,
   "metadata": {},
   "outputs": [
    {
     "data": {
      "text/html": [
       "<div>\n",
       "<style scoped>\n",
       "    .dataframe tbody tr th:only-of-type {\n",
       "        vertical-align: middle;\n",
       "    }\n",
       "\n",
       "    .dataframe tbody tr th {\n",
       "        vertical-align: top;\n",
       "    }\n",
       "\n",
       "    .dataframe thead th {\n",
       "        text-align: right;\n",
       "    }\n",
       "</style>\n",
       "<table border=\"1\" class=\"dataframe\">\n",
       "  <thead>\n",
       "    <tr style=\"text-align: right;\">\n",
       "      <th></th>\n",
       "      <th>count</th>\n",
       "      <th>mean</th>\n",
       "      <th>std</th>\n",
       "      <th>min</th>\n",
       "      <th>25%</th>\n",
       "      <th>50%</th>\n",
       "      <th>75%</th>\n",
       "      <th>max</th>\n",
       "    </tr>\n",
       "  </thead>\n",
       "  <tbody>\n",
       "    <tr>\n",
       "      <th>review_length</th>\n",
       "      <td>3150.0</td>\n",
       "      <td>132.049524</td>\n",
       "      <td>182.099952</td>\n",
       "      <td>1.0</td>\n",
       "      <td>30.0</td>\n",
       "      <td>74.0</td>\n",
       "      <td>165.0</td>\n",
       "      <td>2851.0</td>\n",
       "    </tr>\n",
       "  </tbody>\n",
       "</table>\n",
       "</div>"
      ],
      "text/plain": [
       "                count        mean         std  min   25%   50%    75%     max\n",
       "review_length  3150.0  132.049524  182.099952  1.0  30.0  74.0  165.0  2851.0"
      ]
     },
     "execution_count": 29,
     "metadata": {},
     "output_type": "execute_result"
    }
   ],
   "source": [
    "df['review_length'].describe()\n",
    "pd.DataFrame(df.review_length.describe()).T"
   ]
  },
  {
   "cell_type": "code",
   "execution_count": 26,
   "metadata": {},
   "outputs": [
    {
     "data": {
      "text/html": [
       "<div>\n",
       "<style scoped>\n",
       "    .dataframe tbody tr th:only-of-type {\n",
       "        vertical-align: middle;\n",
       "    }\n",
       "\n",
       "    .dataframe tbody tr th {\n",
       "        vertical-align: top;\n",
       "    }\n",
       "\n",
       "    .dataframe thead th {\n",
       "        text-align: right;\n",
       "    }\n",
       "</style>\n",
       "<table border=\"1\" class=\"dataframe\">\n",
       "  <thead>\n",
       "    <tr style=\"text-align: right;\">\n",
       "      <th></th>\n",
       "      <th>count</th>\n",
       "      <th>unique</th>\n",
       "      <th>top</th>\n",
       "      <th>freq</th>\n",
       "    </tr>\n",
       "  </thead>\n",
       "  <tbody>\n",
       "    <tr>\n",
       "      <th>verified_reviews</th>\n",
       "      <td>3150</td>\n",
       "      <td>2301</td>\n",
       "      <td>NaN</td>\n",
       "      <td>79</td>\n",
       "    </tr>\n",
       "  </tbody>\n",
       "</table>\n",
       "</div>"
      ],
      "text/plain": [
       "                 count unique  top freq\n",
       "verified_reviews  3150   2301  NaN   79"
      ]
     },
     "execution_count": 26,
     "metadata": {},
     "output_type": "execute_result"
    }
   ],
   "source": [
    "test['verified_reviews'].describe()\n",
    "pd.DataFrame(test.verified_reviews.describe()).T"
   ]
  },
  {
   "cell_type": "code",
   "execution_count": 30,
   "metadata": {},
   "outputs": [
    {
     "data": {
      "image/png": "[encoded data removed]",
      "text/plain": [
       "<Figure size 720x360 with 1 Axes>"
      ]
     },
     "metadata": {},
     "output_type": "display_data"
    }
   ],
   "source": [
    "df.boxplot(column='review_length',figsize=(10,5))\n",
    "plt.title('Review_length Statistic Description')\n",
    "plt.show()"
   ]
  },
  {
   "cell_type": "markdown",
   "metadata": {},
   "source": [
    "<b>Analysis:</b> Most reviews are no more than 500 words. "
   ]
  },
  {
   "cell_type": "code",
   "execution_count": 31,
   "metadata": {},
   "outputs": [
    {
     "data": {
      "image/png": "[encoded data removed]",
      "text/plain": [
       "<Figure size 720x360 with 1 Axes>"
      ]
     },
     "metadata": {},
     "output_type": "display_data"
    }
   ],
   "source": [
    "df['review_length'].plot(kind='hist',bins=200,figsize=(10,5))\n",
    "plt.title('Class distribution - Review_length')\n",
    "plt.xlabel('review_length')\n",
    "plt.show()"
   ]
  },
  {
   "cell_type": "markdown",
   "metadata": {},
   "source": [
    "<b>Analysis:</b>The plot shows most reviews are short."
   ]
  },
  {
   "cell_type": "code",
   "execution_count": 44,
   "metadata": {},
   "outputs": [
    {
     "data": {
      "text/plain": [
       "Text(0, 0.5, 'Mean of review_length')"
      ]
     },
     "execution_count": 44,
     "metadata": {},
     "output_type": "execute_result"
    },
    {
     "data": {
      "image/png": "[encoded data removed]",
      "text/plain": [
       "<Figure size 432x288 with 1 Axes>"
      ]
     },
     "metadata": {},
     "output_type": "display_data"
    }
   ],
   "source": [
    "test2=df.groupby('rating').mean()\n",
    "test2.head()\n",
    "test2.plot(kind='bar',title='Relation between Length of Review and Rating')\n",
    "plt.ylabel('Mean of review_length')"
   ]
  },
  {
   "cell_type": "markdown",
   "metadata": {},
   "source": [
    "<b>Analysis:</b> The plot shows that reviews with 4 or 5 rating score have lower mean of length of review.  "
   ]
  },
  {
   "cell_type": "code",
   "execution_count": 32,
   "metadata": {},
   "outputs": [
    {
     "data": {
      "text/plain": [
       "Text(0, 0.5, 'Mean of review_length')"
      ]
     },
     "execution_count": 32,
     "metadata": {},
     "output_type": "execute_result"
    },
    {
     "data": {
      "image/png": "[encoded data removed]",
      "text/plain": [
       "<Figure size 432x288 with 1 Axes>"
      ]
     },
     "metadata": {},
     "output_type": "display_data"
    }
   ],
   "source": [
    "test3=df.groupby('feedback').mean()\n",
    "test3['review_length'].plot(kind='bar',title='Relation between Length of Review and Feedback')\n",
    "plt.ylabel('Mean of review_length')\n"
   ]
  },
  {
   "cell_type": "markdown",
   "metadata": {},
   "source": [
    "<b>Analysis:</b> Negative reviews have higer average number of words for review."
   ]
  },
  {
   "cell_type": "code",
   "execution_count": 33,
   "metadata": {},
   "outputs": [
    {
     "data": {
      "text/plain": [
       "Text(0.5, 1.0, 'Review Length per Feedback')"
      ]
     },
     "execution_count": 33,
     "metadata": {},
     "output_type": "execute_result"
    },
    {
     "data": {
      "image/png": "[encoded data removed]",
      "text/plain": [
       "<Figure size 432x288 with 1 Axes>"
      ]
     },
     "metadata": {},
     "output_type": "display_data"
    }
   ],
   "source": [
    "ax = sns.boxplot(x='feedback',y='review_length',hue='feedback',data=df)\n",
    "ax.set_title('Review Length per Feedback')"
   ]
  },
  {
   "cell_type": "markdown",
   "metadata": {},
   "source": [
    "<b>Analysis: </b>It seems the length of reviews is negativly related to feedback, which means there could be significant difference in the length between positive and negative reviews. I am going to use Hypothesis testing to discover insight into it. \n",
    "<br>\n",
    "H0: review_length_negative - review_lengthe_positive = 0\n",
    "<br>\n",
    "H1: review_length_negative - review_lengthe_positive > 0"
   ]
  },
  {
   "cell_type": "code",
   "execution_count": 34,
   "metadata": {},
   "outputs": [],
   "source": [
    "review_length_negative = df[df['feedback']==0]['review_length']\n",
    "review_length_positive = df[df['feedback']==1]['review_length']"
   ]
  },
  {
   "cell_type": "code",
   "execution_count": 37,
   "metadata": {},
   "outputs": [
    {
     "data": {
      "text/plain": [
       "Ttest_indResult(statistic=7.712835679990243, pvalue=1.6393106725879995e-14)"
      ]
     },
     "execution_count": 37,
     "metadata": {},
     "output_type": "execute_result"
    }
   ],
   "source": [
    "from scipy import stats\n",
    "stats.ttest_ind(review_length_negative,review_length_positive)"
   ]
  },
  {
   "cell_type": "markdown",
   "metadata": {},
   "source": [
    "<b>Conclusion: </b>p-value < 0.01, so we can not accept the Null hypothesis. So there is significant difference in the length between positive and negative reviews."
   ]
  },
  {
   "cell_type": "code",
   "execution_count": 39,
   "metadata": {},
   "outputs": [
    {
     "data": {
      "text/plain": [
       "<matplotlib.axes._subplots.AxesSubplot at 0x1324ab38>"
      ]
     },
     "execution_count": 39,
     "metadata": {},
     "output_type": "execute_result"
    },
    {
     "data": {
      "image/png": "[encoded data removed]",
      "text/plain": [
       "<Figure size 720x360 with 1 Axes>"
      ]
     },
     "metadata": {},
     "output_type": "display_data"
    }
   ],
   "source": [
    "test4=df.groupby('variation').mean()\n",
    "plt.figure(figsize=(10,5))\n",
    "plt.ylabel('Mean of review_length')\n",
    "test4['review_length'].plot(kind='bar')"
   ]
  },
  {
   "cell_type": "markdown",
   "metadata": {},
   "source": [
    "<b>Analysis:</b> White Spot and Black Spot, White Plus and Black Plus have longer review, which could mean much there could many consumers not satisfied with them."
   ]
  },
  {
   "cell_type": "code",
   "execution_count": 41,
   "metadata": {},
   "outputs": [
    {
     "data": {
      "image/png": "[encoded data removed]",
      "text/plain": [
       "<Figure size 720x360 with 1 Axes>"
      ]
     },
     "metadata": {},
     "output_type": "display_data"
    }
   ],
   "source": [
    "plt.figure(figsize=(10,5))\n",
    "ax = sns.boxplot(x=\"rating\", y=\"review_length\", hue=\"feedback\",data=df, palette=\"Set3\")"
   ]
  },
  {
   "cell_type": "markdown",
   "metadata": {},
   "source": [
    "<b>Analysis:</b> It is found that the reviews with higher rating score have less review words, and vice verse."
   ]
  },
  {
   "cell_type": "code",
   "execution_count": 43,
   "metadata": {},
   "outputs": [
    {
     "data": {
      "image/png": "[encoded data removed]",
      "text/plain": [
       "<Figure size 720x360 with 1 Axes>"
      ]
     },
     "metadata": {},
     "output_type": "display_data"
    }
   ],
   "source": [
    "plt.figure(figsize=(10,5))\n",
    "ax = sns.barplot(x=\"Ab_variation\", y=\"review_length\", hue=\"feedback\",data=df, palette=\"Set3\")"
   ]
  },
  {
   "cell_type": "markdown",
   "metadata": {},
   "source": [
    "<b>Analysis:</b> The plot shows negative reviews have more review words."
   ]
  },
  {
   "cell_type": "markdown",
   "metadata": {},
   "source": [
    "#### Summary\n",
    "1. Basicly consumers like Alexa.\n",
    "2. Low level of rating tends to have long reviews. \n",
    "3. Negative feedback tends to have long reviews.\n",
    "4. White Dot and Black Dot are the most popular products.\n",
    "5. White Spot and Black Spot, White Plus and Black Plus might be the variations that need to be improved."
   ]
  },
  {
   "cell_type": "markdown",
   "metadata": {},
   "source": [
    "## Feature Engineering"
   ]
  },
  {
   "cell_type": "code",
   "execution_count": 55,
   "metadata": {},
   "outputs": [
    {
     "name": "stderr",
     "output_type": "stream",
     "text": [
      "[nltk_data] Downloading package punkt to\n",
      "[nltk_data]     C:\\Users\\tina\\AppData\\Roaming\\nltk_data...\n",
      "[nltk_data]   Package punkt is already up-to-date!\n",
      "[nltk_data] Downloading package stopwords to\n",
      "[nltk_data]     C:\\Users\\tina\\AppData\\Roaming\\nltk_data...\n",
      "[nltk_data]   Package stopwords is already up-to-date!\n",
      "[nltk_data] Downloading package wordnet to\n",
      "[nltk_data]     C:\\Users\\tina\\AppData\\Roaming\\nltk_data...\n",
      "[nltk_data]   Package wordnet is already up-to-date!\n"
     ]
    }
   ],
   "source": [
    "from sklearn.feature_extraction.text import CountVectorizer\n",
    "\n",
    "import nltk\n",
    "nltk.download('punkt')\n",
    "nltk.download('stopwords')\n",
    "nltk.download('wordnet')\n",
    "from nltk.corpus import stopwords\n",
    "from nltk.tokenize import word_tokenize\n",
    "from nltk.stem import WordNetLemmatizer, SnowballStemmer\n",
    "from nltk.stem.porter import *\n",
    "\n",
    "import gensim\n",
    "from gensim.utils import simple_preprocess\n",
    "from gensim.parsing.preprocessing import STOPWORDS\n",
    "\n",
    "from string import punctuation\n",
    "\n",
    "import collections"
   ]
  },
  {
   "cell_type": "code",
   "execution_count": 52,
   "metadata": {},
   "outputs": [],
   "source": [
    "# Data Preprocessing, based on https://towardsdatascience.com/topic-modeling-and-latent-dirichlet-allocation-in-python-9bf156893c24?gi=64eab4e0dd2f\n",
    "# Tokenization: Split the text into sentences and the sentences into words. Lowercase the words and remove punctuation.\n",
    "# Words that have fewer than 3 characters are removed.\n",
    "# All stopwords are removed.\n",
    "# Words are lemmatized — words in third person are changed to first person and verbs in past and future tenses are changed into present.\n",
    "# Words are stemmed — words are reduced to their root form.\n",
    "\n",
    "stemmer = SnowballStemmer('english')\n",
    "def lemmatize_stemming(text):\n",
    "    return stemmer.stem(WordNetLemmatizer().lemmatize(text, pos='v'))\n",
    "\n",
    "def preprocess(text):\n",
    "    result = []\n",
    "    for token in gensim.utils.simple_preprocess(text):\n",
    "        if token not in gensim.parsing.preprocessing.STOPWORDS and len(token) > 3:\n",
    "            result.append(lemmatize_stemming(token))\n",
    "    return result"
   ]
  },
  {
   "cell_type": "code",
   "execution_count": 54,
   "metadata": {},
   "outputs": [
    {
     "data": {
      "text/plain": [
       "0                                         [love, echo]\n",
       "1                                               [love]\n",
       "2    [play, game, answer, question, correct, alexa,...\n",
       "3    [thing, learn, dinosaur, control, light, play,...\n",
       "4                                              [music]\n",
       "5    [receiv, echo, gift, need, bluetooth, play, mu...\n",
       "6    [have, cellphon, featur, ipad, great, alarm, d...\n",
       "7    [think, purchas, work, get, room, hous, like, ...\n",
       "8                                        [look, great]\n",
       "9    [love, listen, song, haven, hear, childhood, n...\n",
       "Name: verified_reviews, dtype: object"
      ]
     },
     "execution_count": 54,
     "metadata": {},
     "output_type": "execute_result"
    }
   ],
   "source": [
    "review_text = df.loc[:,['verified_reviews']]\n",
    "review_text['index'] = review_text.index\n",
    "documents = review_text\n",
    "processed_docs = documents['verified_reviews'].map(preprocess)\n",
    "processed_docs[:10]"
   ]
  },
  {
   "cell_type": "code",
   "execution_count": 64,
   "metadata": {},
   "outputs": [
    {
     "name": "stdout",
     "output_type": "stream",
     "text": [
      "Dictionary(2360 unique tokens: ['echo', 'love', 'abl', 'alexa', 'answer']...)\n"
     ]
    },
    {
     "data": {
      "image/png": "[encoded data removed]",
      "text/plain": [
       "<Figure size 720x504 with 1 Axes>"
      ]
     },
     "metadata": {},
     "output_type": "display_data"
    }
   ],
   "source": [
    "dictionary = gensim.corpora.Dictionary(processed_docs)\n",
    "print(dictionary)\n",
    "word_counter = collections.Counter(dictionary) \n",
    "word_counter_df = pd.DataFrame(word_counter.most_common(20), columns = ['word', 'freq'])\n",
    "fig, ax = plt.subplots(figsize=(10, 7))\n",
    "bar_freq_word = sns.barplot(x=\"word\", y=\"freq\", data=word_counter_df, palette=\"PuBuGn_d\", ax=ax)\n",
    "plt.show();"
   ]
  },
  {
   "cell_type": "code",
   "execution_count": 82,
   "metadata": {},
   "outputs": [],
   "source": [
    "# Data preprocessing for \"verified_reviews\", based on https://github.com/bertcarremans/TwitterUSAirlineSentiment/blob/master/source/Predicting%20sentiment%20with%20text%20features.ipynb\n",
    "# remove all punctuations, including the question and exclamation marks\n",
    "# remove the urls as they do not contain useful information and we did not notice a distinction in the number of urls used between the sentiment classes\n",
    "# make sure the converted emojis are kept as one word.\n",
    "# remove digits\n",
    "# remove stopwords\n",
    "# apply the PorterStemmer to keep the stem of the words\n",
    "import string\n",
    "class CleanText():\n",
    "    def remove_punctuation(self,input_text):\n",
    "        # Make translation table\n",
    "        punct = string.punctuation\n",
    "        trantab = str.maketrans(punct, len(punct)*' ')  # Every punctuation symbol will be replaced by a space\n",
    "        return input_text.translate(trantab)\n",
    "\n",
    "    def remove_digits(self,input_text):\n",
    "        return re.sub('\\d+', '', input_text)\n",
    "    \n",
    "    def to_lower(self, input_text):\n",
    "        return input_text.lower()\n",
    "    \n",
    "    def remove_stopwords(self,input_text):\n",
    "        stopwords_list = stopwords.words('english')\n",
    "        # Some words which might indicate a certain sentiment are kept via a whitelist\n",
    "        whitelist = [\"n't\", \"not\", \"no\"]\n",
    "        words = input_text.split() \n",
    "        clean_words = [word for word in words if (word not in stopwords_list or word in whitelist) and len(word) > 1] \n",
    "        return \" \".join(clean_words) \n",
    "    \n",
    "    def stemming(self,input_text):\n",
    "        porter = PorterStemmer()\n",
    "        words = input_text.split() \n",
    "        stemmed_words = [porter.stem(word) for word in words]\n",
    "        return \" \".join(stemmed_words)\n",
    "   \n",
    "    def transform(self,X, **transform_params):\n",
    "        clean_X = X.apply(self.remove_punctuation).apply(self.remove_digits).apply(self.to_lower).apply(self.remove_stopwords).apply(self.stemming)\n",
    "        return clean_X\n"
   ]
  },
  {
   "cell_type": "code",
   "execution_count": 86,
   "metadata": {},
   "outputs": [
    {
     "data": {
      "text/plain": [
       "2822              complet love absolut everyth amaz great\n",
       "2210                                             eas usag\n",
       "3010    sound terribl cannot pair echo play simultan m...\n",
       "998                                love hard time set app\n",
       "2026                               love light bulb featur\n",
       "Name: verified_reviews, dtype: object"
      ]
     },
     "execution_count": 86,
     "metadata": {},
     "output_type": "execute_result"
    }
   ],
   "source": [
    "ct = CleanText()\n",
    "cleaned_reviews = ct.transform(df.verified_reviews)\n",
    "cleaned_reviews.sample(5)"
   ]
  },
  {
   "cell_type": "code",
   "execution_count": 144,
   "metadata": {},
   "outputs": [
    {
     "data": {
      "image/png": "[encoded data removed]",
      "text/plain": [
       "<Figure size 720x504 with 1 Axes>"
      ]
     },
     "metadata": {},
     "output_type": "display_data"
    }
   ],
   "source": [
    "review_vec = CountVectorizer()\n",
    "review_X = review_vec.fit_transform(cleaned_reviews)\n",
    "word_freq = dict(zip(review_vec.get_feature_names(), np.asarray(review_X.sum(axis=0)).ravel()))\n",
    "word_counter = collections.Counter(word_freq)\n",
    "word_counter_df = pd.DataFrame(word_counter.most_common(20), columns = ['word', 'freq'])\n",
    "\n",
    "fig, ax = plt.subplots(figsize=(10, 7))\n",
    "bar_freq_word = sns.barplot(x=\"freq\", y=\"word\", data=word_counter_df, palette=\"PuBuGn_d\", ax=ax)\n",
    "plt.show();"
   ]
  },
  {
   "cell_type": "markdown",
   "metadata": {},
   "source": [
    "<b>Analysis:</b> We can see what are the 20 most frequently occurred words from consumer reviews.  "
   ]
  },
  {
   "cell_type": "markdown",
   "metadata": {},
   "source": [
    "## Machine Learning Model"
   ]
  },
  {
   "cell_type": "markdown",
   "metadata": {},
   "source": [
    "#### 1. LogisticRegression"
   ]
  },
  {
   "cell_type": "code",
   "execution_count": 108,
   "metadata": {},
   "outputs": [],
   "source": [
    "features = pd.DataFrame(review_X.toarray(), columns=review_vec.vocabulary_)\n",
    "features = pd.get_dummies(features)\n",
    "target = df[['feedback']].astype(int)"
   ]
  },
  {
   "cell_type": "code",
   "execution_count": 153,
   "metadata": {},
   "outputs": [
    {
     "data": {
      "text/html": [
       "<div>\n",
       "<style scoped>\n",
       "    .dataframe tbody tr th:only-of-type {\n",
       "        vertical-align: middle;\n",
       "    }\n",
       "\n",
       "    .dataframe tbody tr th {\n",
       "        vertical-align: top;\n",
       "    }\n",
       "\n",
       "    .dataframe thead th {\n",
       "        text-align: right;\n",
       "    }\n",
       "</style>\n",
       "<table border=\"1\" class=\"dataframe\">\n",
       "  <thead>\n",
       "    <tr style=\"text-align: right;\">\n",
       "      <th></th>\n",
       "      <th>love</th>\n",
       "      <th>my</th>\n",
       "      <th>echo</th>\n",
       "      <th>loved</th>\n",
       "      <th>it</th>\n",
       "      <th>sometimes</th>\n",
       "      <th>while</th>\n",
       "      <th>playing</th>\n",
       "      <th>game</th>\n",
       "      <th>you</th>\n",
       "      <th>...</th>\n",
       "      <th>solo</th>\n",
       "      <th>alcohol</th>\n",
       "      <th>barry</th>\n",
       "      <th>ages</th>\n",
       "      <th>adults</th>\n",
       "      <th>locations</th>\n",
       "      <th>dead</th>\n",
       "      <th>stat</th>\n",
       "      <th>bothered</th>\n",
       "      <th>spaces</th>\n",
       "    </tr>\n",
       "  </thead>\n",
       "  <tbody>\n",
       "    <tr>\n",
       "      <th>0</th>\n",
       "      <td>0</td>\n",
       "      <td>0</td>\n",
       "      <td>0</td>\n",
       "      <td>0</td>\n",
       "      <td>0</td>\n",
       "      <td>0</td>\n",
       "      <td>0</td>\n",
       "      <td>0</td>\n",
       "      <td>0</td>\n",
       "      <td>0</td>\n",
       "      <td>...</td>\n",
       "      <td>0</td>\n",
       "      <td>0</td>\n",
       "      <td>0</td>\n",
       "      <td>0</td>\n",
       "      <td>0</td>\n",
       "      <td>0</td>\n",
       "      <td>0</td>\n",
       "      <td>0</td>\n",
       "      <td>0</td>\n",
       "      <td>0</td>\n",
       "    </tr>\n",
       "    <tr>\n",
       "      <th>1</th>\n",
       "      <td>0</td>\n",
       "      <td>0</td>\n",
       "      <td>0</td>\n",
       "      <td>0</td>\n",
       "      <td>0</td>\n",
       "      <td>0</td>\n",
       "      <td>0</td>\n",
       "      <td>0</td>\n",
       "      <td>0</td>\n",
       "      <td>0</td>\n",
       "      <td>...</td>\n",
       "      <td>0</td>\n",
       "      <td>0</td>\n",
       "      <td>0</td>\n",
       "      <td>0</td>\n",
       "      <td>0</td>\n",
       "      <td>0</td>\n",
       "      <td>0</td>\n",
       "      <td>0</td>\n",
       "      <td>0</td>\n",
       "      <td>0</td>\n",
       "    </tr>\n",
       "    <tr>\n",
       "      <th>2</th>\n",
       "      <td>0</td>\n",
       "      <td>0</td>\n",
       "      <td>0</td>\n",
       "      <td>0</td>\n",
       "      <td>0</td>\n",
       "      <td>0</td>\n",
       "      <td>0</td>\n",
       "      <td>0</td>\n",
       "      <td>0</td>\n",
       "      <td>0</td>\n",
       "      <td>...</td>\n",
       "      <td>0</td>\n",
       "      <td>0</td>\n",
       "      <td>0</td>\n",
       "      <td>0</td>\n",
       "      <td>0</td>\n",
       "      <td>0</td>\n",
       "      <td>0</td>\n",
       "      <td>0</td>\n",
       "      <td>0</td>\n",
       "      <td>0</td>\n",
       "    </tr>\n",
       "    <tr>\n",
       "      <th>3</th>\n",
       "      <td>0</td>\n",
       "      <td>0</td>\n",
       "      <td>0</td>\n",
       "      <td>0</td>\n",
       "      <td>0</td>\n",
       "      <td>0</td>\n",
       "      <td>0</td>\n",
       "      <td>0</td>\n",
       "      <td>0</td>\n",
       "      <td>0</td>\n",
       "      <td>...</td>\n",
       "      <td>0</td>\n",
       "      <td>1</td>\n",
       "      <td>0</td>\n",
       "      <td>0</td>\n",
       "      <td>0</td>\n",
       "      <td>0</td>\n",
       "      <td>0</td>\n",
       "      <td>0</td>\n",
       "      <td>0</td>\n",
       "      <td>0</td>\n",
       "    </tr>\n",
       "    <tr>\n",
       "      <th>4</th>\n",
       "      <td>0</td>\n",
       "      <td>0</td>\n",
       "      <td>0</td>\n",
       "      <td>0</td>\n",
       "      <td>0</td>\n",
       "      <td>0</td>\n",
       "      <td>0</td>\n",
       "      <td>0</td>\n",
       "      <td>0</td>\n",
       "      <td>0</td>\n",
       "      <td>...</td>\n",
       "      <td>0</td>\n",
       "      <td>0</td>\n",
       "      <td>0</td>\n",
       "      <td>0</td>\n",
       "      <td>0</td>\n",
       "      <td>0</td>\n",
       "      <td>0</td>\n",
       "      <td>0</td>\n",
       "      <td>0</td>\n",
       "      <td>0</td>\n",
       "    </tr>\n",
       "  </tbody>\n",
       "</table>\n",
       "<p>5 rows × 4044 columns</p>\n",
       "</div>"
      ],
      "text/plain": [
       "   love  my  echo  loved  it  sometimes  while  playing  game  you   ...    \\\n",
       "0     0   0     0      0   0          0      0        0     0    0   ...     \n",
       "1     0   0     0      0   0          0      0        0     0    0   ...     \n",
       "2     0   0     0      0   0          0      0        0     0    0   ...     \n",
       "3     0   0     0      0   0          0      0        0     0    0   ...     \n",
       "4     0   0     0      0   0          0      0        0     0    0   ...     \n",
       "\n",
       "   solo  alcohol  barry  ages  adults  locations  dead  stat  bothered  spaces  \n",
       "0     0        0      0     0       0          0     0     0         0       0  \n",
       "1     0        0      0     0       0          0     0     0         0       0  \n",
       "2     0        0      0     0       0          0     0     0         0       0  \n",
       "3     0        1      0     0       0          0     0     0         0       0  \n",
       "4     0        0      0     0       0          0     0     0         0       0  \n",
       "\n",
       "[5 rows x 4044 columns]"
      ]
     },
     "execution_count": 153,
     "metadata": {},
     "output_type": "execute_result"
    }
   ],
   "source": [
    "features.head()"
   ]
  },
  {
   "cell_type": "code",
   "execution_count": 95,
   "metadata": {},
   "outputs": [],
   "source": [
    "from sklearn.linear_model import LogisticRegression\n",
    "from sklearn.model_selection import train_test_split\n",
    "from sklearn import metrics\n",
    "from sklearn.metrics import recall_score,accuracy_score,confusion_matrix, f1_score, precision_score, auc,roc_auc_score,roc_curve, precision_recall_curve\n",
    "from sklearn.metrics import confusion_matrix,precision_recall_curve,auc,roc_auc_score,roc_curve,recall_score,classification_report "
   ]
  },
  {
   "cell_type": "code",
   "execution_count": 130,
   "metadata": {},
   "outputs": [
    {
     "name": "stdout",
     "output_type": "stream",
     "text": [
      "0.9680729760547321\n",
      "[[ 40  48]\n",
      " [  8 849]]\n",
      "              precision    recall  f1-score   support\n",
      "\n",
      "           0       0.83      0.45      0.59        88\n",
      "           1       0.95      0.99      0.97       857\n",
      "\n",
      "   micro avg       0.94      0.94      0.94       945\n",
      "   macro avg       0.89      0.72      0.78       945\n",
      "weighted avg       0.94      0.94      0.93       945\n",
      "\n"
     ]
    }
   ],
   "source": [
    "#warnings.filterwarnings(\"ignore\", category=FutureWarning)\n",
    "warnings.filterwarnings(\"ignore\")\n",
    "\n",
    "X_train, X_test, y_train, y_test = train_test_split(features, target, test_size = 0.3, random_state=42)\n",
    "logreg = LogisticRegression()\n",
    "logreg.fit(X_train, y_train)\n",
    "y_pred = logreg.predict(X_test)\n",
    "print(metrics.f1_score(y_test, y_pred))\n",
    "print(confusion_matrix(y_test, y_pred))\n",
    "print(classification_report(y_test, y_pred))"
   ]
  },
  {
   "cell_type": "code",
   "execution_count": 135,
   "metadata": {},
   "outputs": [
    {
     "name": "stdout",
     "output_type": "stream",
     "text": [
      "0.9632560768795929\n",
      "[[ 28  60]\n",
      " [  5 852]]\n",
      "              precision    recall  f1-score   support\n",
      "\n",
      "           0       0.85      0.32      0.46        88\n",
      "           1       0.93      0.99      0.96       857\n",
      "\n",
      "   micro avg       0.93      0.93      0.93       945\n",
      "   macro avg       0.89      0.66      0.71       945\n",
      "weighted avg       0.93      0.93      0.92       945\n",
      "\n"
     ]
    }
   ],
   "source": [
    "# Grid Search Cross Validation\n",
    "from sklearn.model_selection import GridSearchCV\n",
    "\n",
    "c_space = np.logspace(-5, 8, 15)\n",
    "param_grid_inst = {'C': c_space}\n",
    "logreg_cv = GridSearchCV(logreg, param_grid_inst, cv=5)\n",
    "logreg_cv.fit(X_train, y_train.values.ravel())\n",
    "y_pred = logreg_cv.predict(X_test)\n",
    "print(f1_score(y_test.values.ravel(),y_pred))\n",
    "print(confusion_matrix(y_test, y_pred))\n",
    "print(classification_report(y_test, y_pred))"
   ]
  },
  {
   "cell_type": "code",
   "execution_count": 114,
   "metadata": {},
   "outputs": [
    {
     "data": {
      "image/png": "[encoded data removed]",
      "text/plain": [
       "<Figure size 432x288 with 1 Axes>"
      ]
     },
     "metadata": {},
     "output_type": "display_data"
    }
   ],
   "source": [
    "from sklearn.metrics import roc_curve\n",
    "y_pred_prob = logreg_cv.predict_proba(X_test)[:,1]\n",
    "fpr, tpr, threshods = roc_curve(y_test, y_pred_prob)\n",
    "plt.plot([0, 1], [0, 1], 'k--')\n",
    "plt.plot(fpr, tpr)\n",
    "plt.xlabel('False Positive Rate')\n",
    "plt.ylabel('True Positive Rate')\n",
    "plt.title('ROC Curve for Negative Review')\n",
    "plt.show()"
   ]
  },
  {
   "cell_type": "markdown",
   "metadata": {},
   "source": [
    "#### Analysis:\n",
    "<ul><li> According to the classfication_report, imbalance of dataset could have a negative impact on the model training. So need to try approaches to deal with imbalance data to see if can get better model. </li>\n",
    "\n",
    "</ul>\n",
    "I am going to try RandonForestClassifier to see if I can get better result from it."
   ]
  },
  {
   "cell_type": "markdown",
   "metadata": {},
   "source": [
    "#### 2. RandomForestClassifier"
   ]
  },
  {
   "cell_type": "code",
   "execution_count": 131,
   "metadata": {},
   "outputs": [],
   "source": [
    "from sklearn.ensemble import RandomForestClassifier\n",
    "from sklearn.model_selection import train_test_split"
   ]
  },
  {
   "cell_type": "code",
   "execution_count": 132,
   "metadata": {},
   "outputs": [],
   "source": [
    "model = RandomForestClassifier()"
   ]
  },
  {
   "cell_type": "code",
   "execution_count": 133,
   "metadata": {},
   "outputs": [],
   "source": [
    "params = {\n",
    "    'bootstrap': [True],\n",
    "    'max_depth': [80, 100],\n",
    "    'min_samples_split': [8, 12],\n",
    "    'n_estimators': [100, 300]\n",
    "}"
   ]
  },
  {
   "cell_type": "code",
   "execution_count": 136,
   "metadata": {},
   "outputs": [
    {
     "name": "stdout",
     "output_type": "stream",
     "text": [
      "0.9632560768795929\n",
      "[[  9  79]\n",
      " [  0 857]]\n",
      "              precision    recall  f1-score   support\n",
      "\n",
      "           0       1.00      0.10      0.19        88\n",
      "           1       0.92      1.00      0.96       857\n",
      "\n",
      "   micro avg       0.92      0.92      0.92       945\n",
      "   macro avg       0.96      0.55      0.57       945\n",
      "weighted avg       0.92      0.92      0.88       945\n",
      "\n"
     ]
    }
   ],
   "source": [
    "from sklearn.model_selection import GridSearchCV\n",
    "from sklearn.model_selection import StratifiedKFold\n",
    "cv_object = StratifiedKFold(n_splits=5)\n",
    "\n",
    "forest_gridCV = GridSearchCV(estimator=model, param_grid=params, cv=cv_object, verbose=0, return_train_score=True)\n",
    "forest_gridCV.fit(X_train, y_train.values.ravel())\n",
    "y_pred_forest = forest_gridCV.predict(X_test)\n",
    "print(f1_score(y_test.values.ravel(),y_pred))\n",
    "print(confusion_matrix(y_test, y_pred_forest))\n",
    "print(classification_report(y_test, y_pred_forest))"
   ]
  },
  {
   "cell_type": "code",
   "execution_count": 141,
   "metadata": {},
   "outputs": [],
   "source": [
    "feature_imp_df = pd.DataFrame([forest_gridCV.best_estimator_.feature_importances_], columns=list(X_train.columns)).T\n",
    "feature_imp_df.columns = ['imp']\n",
    "feature_imp_df.sort_values('imp', ascending=False, inplace=True)"
   ]
  },
  {
   "cell_type": "code",
   "execution_count": 143,
   "metadata": {},
   "outputs": [
    {
     "data": {
      "image/png": "[encoded data removed]",
      "text/plain": [
       "<Figure size 720x504 with 1 Axes>"
      ]
     },
     "metadata": {},
     "output_type": "display_data"
    }
   ],
   "source": [
    "feature_imp_df.head(15).plot.barh(figsize=(10, 7))\n",
    "plt.title(\"15 Most Important Features\");"
   ]
  },
  {
   "cell_type": "markdown",
   "metadata": {},
   "source": [
    "#### 3. Comparision of LogisticRegerssion and RadomForestClassifier"
   ]
  },
  {
   "cell_type": "code",
   "execution_count": 147,
   "metadata": {},
   "outputs": [
    {
     "data": {
      "image/png": "[encoded data removed]",
      "text/plain": [
       "<Figure size 432x288 with 1 Axes>"
      ]
     },
     "metadata": {},
     "output_type": "display_data"
    }
   ],
   "source": [
    "from sklearn.metrics import roc_curve\n",
    "\n",
    "y_pred_prob_lr = logreg_cv.predict_proba(X_test)[:,1]\n",
    "fpr_lr, tpr_lr, threshods_lr = roc_curve(y_test, y_pred_prob_lr)\n",
    "plt.plot([0, 1], [0, 1], 'k--')\n",
    "plt.plot(fpr_lr, tpr_lr)\n",
    "\n",
    "y_pred_prob_fst = forest_gridCV.predict_proba(X_test)[:,1]\n",
    "fpr_fst, tpr_fst, threshods_fst = roc_curve(y_test, y_pred_prob_fst)\n",
    "plt.plot([0, 1], [0, 1], 'k--')\n",
    "plt.plot(fpr_fst, tpr_fst)\n",
    "\n",
    "plt.xlabel('False Positive Rate')\n",
    "plt.ylabel('True Positive Rate')\n",
    "plt.title('ROC Curve for Negative Review')\n",
    "plt.show()"
   ]
  },
  {
   "cell_type": "markdown",
   "metadata": {},
   "source": [
    "<b>Conclusion:</b> Basicly, LogisticRegression is better than RandomForestClassifier. Next, I am going to apply imbalanced data processing algorithms on the LogisticRegression model to see if can improve the model."
   ]
  },
  {
   "cell_type": "markdown",
   "metadata": {},
   "source": [
    "## Dealing with Imbalanced Data based on LogisticRegression"
   ]
  },
  {
   "cell_type": "code",
   "execution_count": 115,
   "metadata": {},
   "outputs": [
    {
     "name": "stdout",
     "output_type": "stream",
     "text": [
      "Transforming RandomUnderSampler\n",
      "data distribution:Counter({0: 169, 1: 169})\n",
      "Transforming SMOTE\n",
      "data distribution:Counter({1: 2036, 0: 2036})\n",
      "Transforming ClusterCentroids\n",
      "data distribution:Counter({0: 169, 1: 169})\n",
      "Transforming NearMiss\n",
      "data distribution:Counter({0: 169, 1: 169})\n",
      "Transforming SMOTEENN\n",
      "data distribution:Counter({0: 1311, 1: 744})\n",
      "Transforming SMOTETomek\n",
      "data distribution:Counter({1: 2036, 0: 2036})\n",
      "Fitting 5 folds for each of 15 candidates, totalling 75 fits\n",
      "[CV] C=1e-05 .........................................................\n"
     ]
    },
    {
     "name": "stderr",
     "output_type": "stream",
     "text": [
      "[Parallel(n_jobs=1)]: Using backend SequentialBackend with 1 concurrent workers.\n"
     ]
    },
    {
     "name": "stdout",
     "output_type": "stream",
     "text": [
      "[CV] .......................................... C=1e-05, total=   0.3s\n",
      "[CV] C=1e-05 .........................................................\n"
     ]
    },
    {
     "name": "stderr",
     "output_type": "stream",
     "text": [
      "[Parallel(n_jobs=1)]: Done   1 out of   1 | elapsed:    0.4s remaining:    0.0s\n"
     ]
    },
    {
     "name": "stdout",
     "output_type": "stream",
     "text": [
      "[CV] .......................................... C=1e-05, total=   0.3s\n",
      "[CV] C=1e-05 .........................................................\n",
      "[CV] .......................................... C=1e-05, total=   0.3s\n",
      "[CV] C=1e-05 .........................................................\n",
      "[CV] .......................................... C=1e-05, total=   0.3s\n",
      "[CV] C=1e-05 .........................................................\n",
      "[CV] .......................................... C=1e-05, total=   0.3s\n",
      "[CV] C=8.483428982440725e-05 .........................................\n",
      "[CV] .......................... C=8.483428982440725e-05, total=   0.3s\n",
      "[CV] C=8.483428982440725e-05 .........................................\n",
      "[CV] .......................... C=8.483428982440725e-05, total=   0.3s\n",
      "[CV] C=8.483428982440725e-05 .........................................\n",
      "[CV] .......................... C=8.483428982440725e-05, total=   0.3s\n",
      "[CV] C=8.483428982440725e-05 .........................................\n",
      "[CV] .......................... C=8.483428982440725e-05, total=   0.3s\n",
      "[CV] C=8.483428982440725e-05 .........................................\n",
      "[CV] .......................... C=8.483428982440725e-05, total=   0.3s\n",
      "[CV] C=0.0007196856730011522 .........................................\n",
      "[CV] .......................... C=0.0007196856730011522, total=   0.3s\n",
      "[CV] C=0.0007196856730011522 .........................................\n",
      "[CV] .......................... C=0.0007196856730011522, total=   0.3s\n",
      "[CV] C=0.0007196856730011522 .........................................\n",
      "[CV] .......................... C=0.0007196856730011522, total=   0.3s\n",
      "[CV] C=0.0007196856730011522 .........................................\n",
      "[CV] .......................... C=0.0007196856730011522, total=   0.3s\n",
      "[CV] C=0.0007196856730011522 .........................................\n",
      "[CV] .......................... C=0.0007196856730011522, total=   0.3s\n",
      "[CV] C=0.006105402296585327 ..........................................\n",
      "[CV] ........................... C=0.006105402296585327, total=   0.3s\n",
      "[CV] C=0.006105402296585327 ..........................................\n",
      "[CV] ........................... C=0.006105402296585327, total=   0.3s\n",
      "[CV] C=0.006105402296585327 ..........................................\n",
      "[CV] ........................... C=0.006105402296585327, total=   0.3s\n",
      "[CV] C=0.006105402296585327 ..........................................\n",
      "[CV] ........................... C=0.006105402296585327, total=   0.3s\n",
      "[CV] C=0.006105402296585327 ..........................................\n",
      "[CV] ........................... C=0.006105402296585327, total=   0.3s\n",
      "[CV] C=0.05179474679231213 ...........................................\n",
      "[CV] ............................ C=0.05179474679231213, total=   0.3s\n",
      "[CV] C=0.05179474679231213 ...........................................\n",
      "[CV] ............................ C=0.05179474679231213, total=   0.3s\n",
      "[CV] C=0.05179474679231213 ...........................................\n",
      "[CV] ............................ C=0.05179474679231213, total=   0.3s\n",
      "[CV] C=0.05179474679231213 ...........................................\n",
      "[CV] ............................ C=0.05179474679231213, total=   0.3s\n",
      "[CV] C=0.05179474679231213 ...........................................\n",
      "[CV] ............................ C=0.05179474679231213, total=   0.3s\n",
      "[CV] C=0.4393970560760795 ............................................\n",
      "[CV] ............................. C=0.4393970560760795, total=   0.3s\n",
      "[CV] C=0.4393970560760795 ............................................\n",
      "[CV] ............................. C=0.4393970560760795, total=   0.3s\n",
      "[CV] C=0.4393970560760795 ............................................\n",
      "[CV] ............................. C=0.4393970560760795, total=   0.3s\n",
      "[CV] C=0.4393970560760795 ............................................\n",
      "[CV] ............................. C=0.4393970560760795, total=   0.3s\n",
      "[CV] C=0.4393970560760795 ............................................\n",
      "[CV] ............................. C=0.4393970560760795, total=   0.3s\n",
      "[CV] C=3.727593720314938 .............................................\n",
      "[CV] .............................. C=3.727593720314938, total=   0.3s\n",
      "[CV] C=3.727593720314938 .............................................\n",
      "[CV] .............................. C=3.727593720314938, total=   0.3s\n",
      "[CV] C=3.727593720314938 .............................................\n",
      "[CV] .............................. C=3.727593720314938, total=   0.3s\n",
      "[CV] C=3.727593720314938 .............................................\n",
      "[CV] .............................. C=3.727593720314938, total=   0.3s\n",
      "[CV] C=3.727593720314938 .............................................\n",
      "[CV] .............................. C=3.727593720314938, total=   0.3s\n",
      "[CV] C=31.622776601683793 ............................................\n",
      "[CV] ............................. C=31.622776601683793, total=   0.3s\n",
      "[CV] C=31.622776601683793 ............................................\n",
      "[CV] ............................. C=31.622776601683793, total=   0.3s\n",
      "[CV] C=31.622776601683793 ............................................\n",
      "[CV] ............................. C=31.622776601683793, total=   0.3s\n",
      "[CV] C=31.622776601683793 ............................................\n",
      "[CV] ............................. C=31.622776601683793, total=   0.3s\n",
      "[CV] C=31.622776601683793 ............................................\n",
      "[CV] ............................. C=31.622776601683793, total=   0.3s\n",
      "[CV] C=268.2695795279727 .............................................\n",
      "[CV] .............................. C=268.2695795279727, total=   0.3s\n",
      "[CV] C=268.2695795279727 .............................................\n",
      "[CV] .............................. C=268.2695795279727, total=   0.3s\n",
      "[CV] C=268.2695795279727 .............................................\n",
      "[CV] .............................. C=268.2695795279727, total=   0.3s\n",
      "[CV] C=268.2695795279727 .............................................\n",
      "[CV] .............................. C=268.2695795279727, total=   0.3s\n",
      "[CV] C=268.2695795279727 .............................................\n",
      "[CV] .............................. C=268.2695795279727, total=   0.3s\n",
      "[CV] C=2275.845926074791 .............................................\n",
      "[CV] .............................. C=2275.845926074791, total=   0.3s\n",
      "[CV] C=2275.845926074791 .............................................\n",
      "[CV] .............................. C=2275.845926074791, total=   0.3s\n",
      "[CV] C=2275.845926074791 .............................................\n",
      "[CV] .............................. C=2275.845926074791, total=   0.3s\n",
      "[CV] C=2275.845926074791 .............................................\n",
      "[CV] .............................. C=2275.845926074791, total=   0.3s\n",
      "[CV] C=2275.845926074791 .............................................\n",
      "[CV] .............................. C=2275.845926074791, total=   0.3s\n",
      "[CV] C=19306.977288832535 ............................................\n",
      "[CV] ............................. C=19306.977288832535, total=   0.3s\n",
      "[CV] C=19306.977288832535 ............................................\n",
      "[CV] ............................. C=19306.977288832535, total=   0.3s\n",
      "[CV] C=19306.977288832535 ............................................\n",
      "[CV] ............................. C=19306.977288832535, total=   0.3s\n",
      "[CV] C=19306.977288832535 ............................................\n",
      "[CV] ............................. C=19306.977288832535, total=   0.3s\n",
      "[CV] C=19306.977288832535 ............................................\n",
      "[CV] ............................. C=19306.977288832535, total=   0.3s\n",
      "[CV] C=163789.3706954068 .............................................\n",
      "[CV] .............................. C=163789.3706954068, total=   0.3s\n",
      "[CV] C=163789.3706954068 .............................................\n",
      "[CV] .............................. C=163789.3706954068, total=   0.3s\n",
      "[CV] C=163789.3706954068 .............................................\n",
      "[CV] .............................. C=163789.3706954068, total=   0.3s\n",
      "[CV] C=163789.3706954068 .............................................\n",
      "[CV] .............................. C=163789.3706954068, total=   0.3s\n",
      "[CV] C=163789.3706954068 .............................................\n"
     ]
    },
    {
     "name": "stdout",
     "output_type": "stream",
     "text": [
      "[CV] .............................. C=163789.3706954068, total=   0.3s\n",
      "[CV] C=1389495.494373136 .............................................\n",
      "[CV] .............................. C=1389495.494373136, total=   0.3s\n",
      "[CV] C=1389495.494373136 .............................................\n",
      "[CV] .............................. C=1389495.494373136, total=   0.3s\n",
      "[CV] C=1389495.494373136 .............................................\n",
      "[CV] .............................. C=1389495.494373136, total=   0.3s\n",
      "[CV] C=1389495.494373136 .............................................\n",
      "[CV] .............................. C=1389495.494373136, total=   0.3s\n",
      "[CV] C=1389495.494373136 .............................................\n",
      "[CV] .............................. C=1389495.494373136, total=   0.3s\n",
      "[CV] C=11787686.347935867 ............................................\n",
      "[CV] ............................. C=11787686.347935867, total=   0.3s\n",
      "[CV] C=11787686.347935867 ............................................\n",
      "[CV] ............................. C=11787686.347935867, total=   0.3s\n",
      "[CV] C=11787686.347935867 ............................................\n",
      "[CV] ............................. C=11787686.347935867, total=   0.3s\n",
      "[CV] C=11787686.347935867 ............................................\n",
      "[CV] ............................. C=11787686.347935867, total=   0.3s\n",
      "[CV] C=11787686.347935867 ............................................\n",
      "[CV] ............................. C=11787686.347935867, total=   0.3s\n",
      "[CV] C=100000000.0 ...................................................\n",
      "[CV] .................................... C=100000000.0, total=   0.3s\n",
      "[CV] C=100000000.0 ...................................................\n",
      "[CV] .................................... C=100000000.0, total=   0.3s\n",
      "[CV] C=100000000.0 ...................................................\n",
      "[CV] .................................... C=100000000.0, total=   0.3s\n",
      "[CV] C=100000000.0 ...................................................\n",
      "[CV] .................................... C=100000000.0, total=   0.3s\n",
      "[CV] C=100000000.0 ...................................................\n",
      "[CV] .................................... C=100000000.0, total=   0.3s\n"
     ]
    },
    {
     "name": "stderr",
     "output_type": "stream",
     "text": [
      "[Parallel(n_jobs=1)]: Done  75 out of  75 | elapsed:   34.5s finished\n"
     ]
    },
    {
     "name": "stdout",
     "output_type": "stream",
     "text": [
      "              precision    recall  f1-score   support\n",
      "\n",
      "           0       0.72      0.59      0.65        88\n",
      "           1       0.96      0.98      0.97       857\n",
      "\n",
      "   micro avg       0.94      0.94      0.94       945\n",
      "   macro avg       0.84      0.78      0.81       945\n",
      "weighted avg       0.94      0.94      0.94       945\n",
      "\n",
      "Fitting 5 folds for each of 15 candidates, totalling 75 fits\n",
      "[CV] C=1e-05 .........................................................\n",
      "[CV] .......................................... C=1e-05, total=   0.0s\n",
      "[CV] C=1e-05 .........................................................\n",
      "[CV] .......................................... C=1e-05, total=   0.0s\n",
      "[CV] C=1e-05 .........................................................\n",
      "[CV] .......................................... C=1e-05, total=   0.0s\n",
      "[CV] C=1e-05 .........................................................\n",
      "[CV] .......................................... C=1e-05, total=   0.0s\n",
      "[CV] C=1e-05 .........................................................\n",
      "[CV] .......................................... C=1e-05, total=   0.0s\n",
      "[CV] C=8.483428982440725e-05 .........................................\n",
      "[CV] .......................... C=8.483428982440725e-05, total=   0.0s\n",
      "[CV] C=8.483428982440725e-05 .........................................\n",
      "[CV] .......................... C=8.483428982440725e-05, total=   0.0s\n",
      "[CV] C=8.483428982440725e-05 .........................................\n",
      "[CV] .......................... C=8.483428982440725e-05, total=   0.0s\n",
      "[CV] C=8.483428982440725e-05 .........................................\n",
      "[CV] .......................... C=8.483428982440725e-05, total=   0.0s\n",
      "[CV] C=8.483428982440725e-05 .........................................\n",
      "[CV] .......................... C=8.483428982440725e-05, total=   0.0s"
     ]
    },
    {
     "name": "stderr",
     "output_type": "stream",
     "text": [
      "[Parallel(n_jobs=1)]: Using backend SequentialBackend with 1 concurrent workers.\n",
      "[Parallel(n_jobs=1)]: Done   1 out of   1 | elapsed:    0.0s remaining:    0.0s\n"
     ]
    },
    {
     "name": "stdout",
     "output_type": "stream",
     "text": [
      "\n",
      "[CV] C=0.0007196856730011522 .........................................\n",
      "[CV] .......................... C=0.0007196856730011522, total=   0.0s\n",
      "[CV] C=0.0007196856730011522 .........................................\n",
      "[CV] .......................... C=0.0007196856730011522, total=   0.0s\n",
      "[CV] C=0.0007196856730011522 .........................................\n",
      "[CV] .......................... C=0.0007196856730011522, total=   0.0s\n",
      "[CV] C=0.0007196856730011522 .........................................\n",
      "[CV] .......................... C=0.0007196856730011522, total=   0.0s\n",
      "[CV] C=0.0007196856730011522 .........................................\n",
      "[CV] .......................... C=0.0007196856730011522, total=   0.0s\n",
      "[CV] C=0.006105402296585327 ..........................................\n",
      "[CV] ........................... C=0.006105402296585327, total=   0.0s\n",
      "[CV] C=0.006105402296585327 ..........................................\n",
      "[CV] ........................... C=0.006105402296585327, total=   0.0s\n",
      "[CV] C=0.006105402296585327 ..........................................\n",
      "[CV] ........................... C=0.006105402296585327, total=   0.0s\n",
      "[CV] C=0.006105402296585327 ..........................................\n",
      "[CV] ........................... C=0.006105402296585327, total=   0.0s\n",
      "[CV] C=0.006105402296585327 ..........................................\n",
      "[CV] ........................... C=0.006105402296585327, total=   0.0s\n",
      "[CV] C=0.05179474679231213 ...........................................\n",
      "[CV] ............................ C=0.05179474679231213, total=   0.0s\n",
      "[CV] C=0.05179474679231213 ...........................................\n",
      "[CV] ............................ C=0.05179474679231213, total=   0.0s\n",
      "[CV] C=0.05179474679231213 ...........................................\n",
      "[CV] ............................ C=0.05179474679231213, total=   0.0s\n",
      "[CV] C=0.05179474679231213 ...........................................\n",
      "[CV] ............................ C=0.05179474679231213, total=   0.0s\n",
      "[CV] C=0.05179474679231213 ...........................................\n",
      "[CV] ............................ C=0.05179474679231213, total=   0.0s\n",
      "[CV] C=0.4393970560760795 ............................................\n",
      "[CV] ............................. C=0.4393970560760795, total=   0.0s\n",
      "[CV] C=0.4393970560760795 ............................................\n",
      "[CV] ............................. C=0.4393970560760795, total=   0.0s\n",
      "[CV] C=0.4393970560760795 ............................................\n",
      "[CV] ............................. C=0.4393970560760795, total=   0.0s\n",
      "[CV] C=0.4393970560760795 ............................................\n",
      "[CV] ............................. C=0.4393970560760795, total=   0.0s\n",
      "[CV] C=0.4393970560760795 ............................................\n",
      "[CV] ............................. C=0.4393970560760795, total=   0.0s\n",
      "[CV] C=3.727593720314938 .............................................\n",
      "[CV] .............................. C=3.727593720314938, total=   0.0s\n",
      "[CV] C=3.727593720314938 .............................................\n",
      "[CV] .............................. C=3.727593720314938, total=   0.0s\n",
      "[CV] C=3.727593720314938 .............................................\n",
      "[CV] .............................. C=3.727593720314938, total=   0.0s\n",
      "[CV] C=3.727593720314938 .............................................\n",
      "[CV] .............................. C=3.727593720314938, total=   0.0s\n",
      "[CV] C=3.727593720314938 .............................................\n",
      "[CV] .............................. C=3.727593720314938, total=   0.0s\n",
      "[CV] C=31.622776601683793 ............................................\n",
      "[CV] ............................. C=31.622776601683793, total=   0.0s\n",
      "[CV] C=31.622776601683793 ............................................\n",
      "[CV] ............................. C=31.622776601683793, total=   0.0s\n",
      "[CV] C=31.622776601683793 ............................................\n",
      "[CV] ............................. C=31.622776601683793, total=   0.0s\n",
      "[CV] C=31.622776601683793 ............................................\n",
      "[CV] ............................. C=31.622776601683793, total=   0.0s\n",
      "[CV] C=31.622776601683793 ............................................\n",
      "[CV] ............................. C=31.622776601683793, total=   0.0s\n",
      "[CV] C=268.2695795279727 .............................................\n",
      "[CV] .............................. C=268.2695795279727, total=   0.0s\n",
      "[CV] C=268.2695795279727 .............................................\n",
      "[CV] .............................. C=268.2695795279727, total=   0.0s\n",
      "[CV] C=268.2695795279727 .............................................\n",
      "[CV] .............................. C=268.2695795279727, total=   0.0s\n",
      "[CV] C=268.2695795279727 .............................................\n",
      "[CV] .............................. C=268.2695795279727, total=   0.0s\n",
      "[CV] C=268.2695795279727 .............................................\n",
      "[CV] .............................. C=268.2695795279727, total=   0.0s\n",
      "[CV] C=2275.845926074791 .............................................\n",
      "[CV] .............................. C=2275.845926074791, total=   0.0s\n",
      "[CV] C=2275.845926074791 .............................................\n",
      "[CV] .............................. C=2275.845926074791, total=   0.0s\n",
      "[CV] C=2275.845926074791 .............................................\n",
      "[CV] .............................. C=2275.845926074791, total=   0.0s\n",
      "[CV] C=2275.845926074791 .............................................\n",
      "[CV] .............................. C=2275.845926074791, total=   0.0s\n",
      "[CV] C=2275.845926074791 .............................................\n",
      "[CV] .............................. C=2275.845926074791, total=   0.0s\n",
      "[CV] C=19306.977288832535 ............................................\n",
      "[CV] ............................. C=19306.977288832535, total=   0.0s\n",
      "[CV] C=19306.977288832535 ............................................\n",
      "[CV] ............................. C=19306.977288832535, total=   0.0s\n",
      "[CV] C=19306.977288832535 ............................................\n",
      "[CV] ............................. C=19306.977288832535, total=   0.0s\n",
      "[CV] C=19306.977288832535 ............................................\n",
      "[CV] ............................. C=19306.977288832535, total=   0.0s\n",
      "[CV] C=19306.977288832535 ............................................\n",
      "[CV] ............................. C=19306.977288832535, total=   0.0s\n",
      "[CV] C=163789.3706954068 .............................................\n",
      "[CV] .............................. C=163789.3706954068, total=   0.0s\n",
      "[CV] C=163789.3706954068 .............................................\n",
      "[CV] .............................. C=163789.3706954068, total=   0.0s\n",
      "[CV] C=163789.3706954068 .............................................\n",
      "[CV] .............................. C=163789.3706954068, total=   0.0s\n",
      "[CV] C=163789.3706954068 .............................................\n",
      "[CV] .............................. C=163789.3706954068, total=   0.0s\n",
      "[CV] C=163789.3706954068 .............................................\n",
      "[CV] .............................. C=163789.3706954068, total=   0.0s\n",
      "[CV] C=1389495.494373136 .............................................\n",
      "[CV] .............................. C=1389495.494373136, total=   0.0s\n",
      "[CV] C=1389495.494373136 .............................................\n",
      "[CV] .............................. C=1389495.494373136, total=   0.0s\n",
      "[CV] C=1389495.494373136 .............................................\n",
      "[CV] .............................. C=1389495.494373136, total=   0.0s\n",
      "[CV] C=1389495.494373136 .............................................\n",
      "[CV] .............................. C=1389495.494373136, total=   0.0s\n",
      "[CV] C=1389495.494373136 .............................................\n",
      "[CV] .............................. C=1389495.494373136, total=   0.0s\n",
      "[CV] C=11787686.347935867 ............................................\n",
      "[CV] ............................. C=11787686.347935867, total=   0.0s\n",
      "[CV] C=11787686.347935867 ............................................\n",
      "[CV] ............................. C=11787686.347935867, total=   0.0s\n",
      "[CV] C=11787686.347935867 ............................................\n"
     ]
    },
    {
     "name": "stdout",
     "output_type": "stream",
     "text": [
      "[CV] ............................. C=11787686.347935867, total=   0.0s\n",
      "[CV] C=11787686.347935867 ............................................\n",
      "[CV] ............................. C=11787686.347935867, total=   0.0s\n",
      "[CV] C=11787686.347935867 ............................................\n",
      "[CV] ............................. C=11787686.347935867, total=   0.0s\n",
      "[CV] C=100000000.0 ...................................................\n",
      "[CV] .................................... C=100000000.0, total=   0.0s\n",
      "[CV] C=100000000.0 ...................................................\n",
      "[CV] .................................... C=100000000.0, total=   0.0s\n",
      "[CV] C=100000000.0 ...................................................\n",
      "[CV] .................................... C=100000000.0, total=   0.0s\n",
      "[CV] C=100000000.0 ...................................................\n",
      "[CV] .................................... C=100000000.0, total=   0.0s\n",
      "[CV] C=100000000.0 ...................................................\n",
      "[CV] .................................... C=100000000.0, total=   0.0s\n",
      "              precision    recall  f1-score   support\n",
      "\n",
      "           0       0.32      0.83      0.46        88\n",
      "           1       0.98      0.82      0.89       857\n",
      "\n",
      "   micro avg       0.82      0.82      0.82       945\n",
      "   macro avg       0.65      0.83      0.68       945\n",
      "weighted avg       0.92      0.82      0.85       945\n",
      "\n"
     ]
    },
    {
     "name": "stderr",
     "output_type": "stream",
     "text": [
      "[Parallel(n_jobs=1)]: Done  75 out of  75 | elapsed:    1.5s finished\n",
      "[Parallel(n_jobs=1)]: Using backend SequentialBackend with 1 concurrent workers.\n"
     ]
    },
    {
     "name": "stdout",
     "output_type": "stream",
     "text": [
      "Fitting 5 folds for each of 15 candidates, totalling 75 fits\n",
      "[CV] C=1e-05 .........................................................\n",
      "[CV] .......................................... C=1e-05, total=   0.0s\n",
      "[CV] C=1e-05 .........................................................\n",
      "[CV] .......................................... C=1e-05, total=   0.0s"
     ]
    },
    {
     "name": "stderr",
     "output_type": "stream",
     "text": [
      "[Parallel(n_jobs=1)]: Done   1 out of   1 | elapsed:    0.1s remaining:    0.0s\n"
     ]
    },
    {
     "name": "stdout",
     "output_type": "stream",
     "text": [
      "\n",
      "[CV] C=1e-05 .........................................................\n",
      "[CV] .......................................... C=1e-05, total=   0.0s\n",
      "[CV] C=1e-05 .........................................................\n",
      "[CV] .......................................... C=1e-05, total=   0.0s\n",
      "[CV] C=1e-05 .........................................................\n",
      "[CV] .......................................... C=1e-05, total=   0.0s\n",
      "[CV] C=8.483428982440725e-05 .........................................\n",
      "[CV] .......................... C=8.483428982440725e-05, total=   0.0s\n",
      "[CV] C=8.483428982440725e-05 .........................................\n",
      "[CV] .......................... C=8.483428982440725e-05, total=   0.0s\n",
      "[CV] C=8.483428982440725e-05 .........................................\n",
      "[CV] .......................... C=8.483428982440725e-05, total=   0.0s\n",
      "[CV] C=8.483428982440725e-05 .........................................\n",
      "[CV] .......................... C=8.483428982440725e-05, total=   0.0s\n",
      "[CV] C=8.483428982440725e-05 .........................................\n",
      "[CV] .......................... C=8.483428982440725e-05, total=   0.0s\n",
      "[CV] C=0.0007196856730011522 .........................................\n",
      "[CV] .......................... C=0.0007196856730011522, total=   0.0s\n",
      "[CV] C=0.0007196856730011522 .........................................\n",
      "[CV] .......................... C=0.0007196856730011522, total=   0.0s\n",
      "[CV] C=0.0007196856730011522 .........................................\n",
      "[CV] .......................... C=0.0007196856730011522, total=   0.0s\n",
      "[CV] C=0.0007196856730011522 .........................................\n",
      "[CV] .......................... C=0.0007196856730011522, total=   0.0s\n",
      "[CV] C=0.0007196856730011522 .........................................\n",
      "[CV] .......................... C=0.0007196856730011522, total=   0.0s\n",
      "[CV] C=0.006105402296585327 ..........................................\n",
      "[CV] ........................... C=0.006105402296585327, total=   0.0s\n",
      "[CV] C=0.006105402296585327 ..........................................\n",
      "[CV] ........................... C=0.006105402296585327, total=   0.0s\n",
      "[CV] C=0.006105402296585327 ..........................................\n",
      "[CV] ........................... C=0.006105402296585327, total=   0.0s\n",
      "[CV] C=0.006105402296585327 ..........................................\n",
      "[CV] ........................... C=0.006105402296585327, total=   0.0s\n",
      "[CV] C=0.006105402296585327 ..........................................\n",
      "[CV] ........................... C=0.006105402296585327, total=   0.0s\n",
      "[CV] C=0.05179474679231213 ...........................................\n",
      "[CV] ............................ C=0.05179474679231213, total=   0.0s\n",
      "[CV] C=0.05179474679231213 ...........................................\n",
      "[CV] ............................ C=0.05179474679231213, total=   0.0s\n",
      "[CV] C=0.05179474679231213 ...........................................\n",
      "[CV] ............................ C=0.05179474679231213, total=   0.0s\n",
      "[CV] C=0.05179474679231213 ...........................................\n",
      "[CV] ............................ C=0.05179474679231213, total=   0.0s\n",
      "[CV] C=0.05179474679231213 ...........................................\n",
      "[CV] ............................ C=0.05179474679231213, total=   0.0s\n",
      "[CV] C=0.4393970560760795 ............................................\n",
      "[CV] ............................. C=0.4393970560760795, total=   0.0s\n",
      "[CV] C=0.4393970560760795 ............................................\n",
      "[CV] ............................. C=0.4393970560760795, total=   0.0s\n",
      "[CV] C=0.4393970560760795 ............................................\n",
      "[CV] ............................. C=0.4393970560760795, total=   0.0s\n",
      "[CV] C=0.4393970560760795 ............................................\n",
      "[CV] ............................. C=0.4393970560760795, total=   0.0s\n",
      "[CV] C=0.4393970560760795 ............................................\n",
      "[CV] ............................. C=0.4393970560760795, total=   0.0s\n",
      "[CV] C=3.727593720314938 .............................................\n",
      "[CV] .............................. C=3.727593720314938, total=   0.0s\n",
      "[CV] C=3.727593720314938 .............................................\n",
      "[CV] .............................. C=3.727593720314938, total=   0.0s\n",
      "[CV] C=3.727593720314938 .............................................\n",
      "[CV] .............................. C=3.727593720314938, total=   0.1s\n",
      "[CV] C=3.727593720314938 .............................................\n",
      "[CV] .............................. C=3.727593720314938, total=   0.0s\n",
      "[CV] C=3.727593720314938 .............................................\n",
      "[CV] .............................. C=3.727593720314938, total=   0.0s\n",
      "[CV] C=31.622776601683793 ............................................\n",
      "[CV] ............................. C=31.622776601683793, total=   0.0s\n",
      "[CV] C=31.622776601683793 ............................................\n",
      "[CV] ............................. C=31.622776601683793, total=   0.0s\n",
      "[CV] C=31.622776601683793 ............................................\n",
      "[CV] ............................. C=31.622776601683793, total=   0.0s\n",
      "[CV] C=31.622776601683793 ............................................\n",
      "[CV] ............................. C=31.622776601683793, total=   0.0s\n",
      "[CV] C=31.622776601683793 ............................................\n",
      "[CV] ............................. C=31.622776601683793, total=   0.0s\n",
      "[CV] C=268.2695795279727 .............................................\n",
      "[CV] .............................. C=268.2695795279727, total=   0.0s\n",
      "[CV] C=268.2695795279727 .............................................\n",
      "[CV] .............................. C=268.2695795279727, total=   0.0s\n",
      "[CV] C=268.2695795279727 .............................................\n",
      "[CV] .............................. C=268.2695795279727, total=   0.0s\n",
      "[CV] C=268.2695795279727 .............................................\n",
      "[CV] .............................. C=268.2695795279727, total=   0.0s\n",
      "[CV] C=268.2695795279727 .............................................\n",
      "[CV] .............................. C=268.2695795279727, total=   0.0s\n",
      "[CV] C=2275.845926074791 .............................................\n",
      "[CV] .............................. C=2275.845926074791, total=   0.0s\n",
      "[CV] C=2275.845926074791 .............................................\n",
      "[CV] .............................. C=2275.845926074791, total=   0.0s\n",
      "[CV] C=2275.845926074791 .............................................\n",
      "[CV] .............................. C=2275.845926074791, total=   0.0s\n",
      "[CV] C=2275.845926074791 .............................................\n",
      "[CV] .............................. C=2275.845926074791, total=   0.0s\n",
      "[CV] C=2275.845926074791 .............................................\n",
      "[CV] .............................. C=2275.845926074791, total=   0.1s\n",
      "[CV] C=19306.977288832535 ............................................\n",
      "[CV] ............................. C=19306.977288832535, total=   0.1s\n",
      "[CV] C=19306.977288832535 ............................................\n",
      "[CV] ............................. C=19306.977288832535, total=   0.0s\n",
      "[CV] C=19306.977288832535 ............................................\n",
      "[CV] ............................. C=19306.977288832535, total=   0.0s\n",
      "[CV] C=19306.977288832535 ............................................\n",
      "[CV] ............................. C=19306.977288832535, total=   0.0s\n",
      "[CV] C=19306.977288832535 ............................................\n",
      "[CV] ............................. C=19306.977288832535, total=   0.0s\n",
      "[CV] C=163789.3706954068 .............................................\n",
      "[CV] .............................. C=163789.3706954068, total=   0.0s\n",
      "[CV] C=163789.3706954068 .............................................\n",
      "[CV] .............................. C=163789.3706954068, total=   0.0s\n",
      "[CV] C=163789.3706954068 .............................................\n",
      "[CV] .............................. C=163789.3706954068, total=   0.0s\n",
      "[CV] C=163789.3706954068 .............................................\n",
      "[CV] .............................. C=163789.3706954068, total=   0.0s\n",
      "[CV] C=163789.3706954068 .............................................\n"
     ]
    },
    {
     "name": "stdout",
     "output_type": "stream",
     "text": [
      "[CV] .............................. C=163789.3706954068, total=   0.0s\n",
      "[CV] C=1389495.494373136 .............................................\n",
      "[CV] .............................. C=1389495.494373136, total=   0.0s\n",
      "[CV] C=1389495.494373136 .............................................\n",
      "[CV] .............................. C=1389495.494373136, total=   0.0s\n",
      "[CV] C=1389495.494373136 .............................................\n",
      "[CV] .............................. C=1389495.494373136, total=   0.0s\n",
      "[CV] C=1389495.494373136 .............................................\n",
      "[CV] .............................. C=1389495.494373136, total=   0.0s\n",
      "[CV] C=1389495.494373136 .............................................\n",
      "[CV] .............................. C=1389495.494373136, total=   0.1s\n",
      "[CV] C=11787686.347935867 ............................................\n",
      "[CV] ............................. C=11787686.347935867, total=   0.0s\n",
      "[CV] C=11787686.347935867 ............................................\n",
      "[CV] ............................. C=11787686.347935867, total=   0.0s\n",
      "[CV] C=11787686.347935867 ............................................\n",
      "[CV] ............................. C=11787686.347935867, total=   0.0s\n",
      "[CV] C=11787686.347935867 ............................................\n",
      "[CV] ............................. C=11787686.347935867, total=   0.0s\n",
      "[CV] C=11787686.347935867 ............................................\n",
      "[CV] ............................. C=11787686.347935867, total=   0.0s\n",
      "[CV] C=100000000.0 ...................................................\n",
      "[CV] .................................... C=100000000.0, total=   0.0s\n",
      "[CV] C=100000000.0 ...................................................\n",
      "[CV] .................................... C=100000000.0, total=   0.0s\n",
      "[CV] C=100000000.0 ...................................................\n",
      "[CV] .................................... C=100000000.0, total=   0.1s\n",
      "[CV] C=100000000.0 ...................................................\n",
      "[CV] .................................... C=100000000.0, total=   0.0s\n",
      "[CV] C=100000000.0 ...................................................\n",
      "[CV] .................................... C=100000000.0, total=   0.0s\n",
      "              precision    recall  f1-score   support\n",
      "\n",
      "           0       0.52      0.70      0.60        88\n",
      "           1       0.97      0.93      0.95       857\n",
      "\n",
      "   micro avg       0.91      0.91      0.91       945\n",
      "   macro avg       0.74      0.82      0.77       945\n",
      "weighted avg       0.93      0.91      0.92       945\n",
      "\n",
      "Fitting 5 folds for each of 15 candidates, totalling 75 fits\n",
      "[CV] C=1e-05 .........................................................\n",
      "[CV] .......................................... C=1e-05, total=   0.0s\n",
      "[CV] C=1e-05 .........................................................\n",
      "[CV] .......................................... C=1e-05, total=   0.0s\n",
      "[CV] C=1e-05 .........................................................\n",
      "[CV] .......................................... C=1e-05, total=   0.0s\n"
     ]
    },
    {
     "name": "stderr",
     "output_type": "stream",
     "text": [
      "[Parallel(n_jobs=1)]: Done  75 out of  75 | elapsed:   14.5s finished\n",
      "[Parallel(n_jobs=1)]: Using backend SequentialBackend with 1 concurrent workers.\n",
      "[Parallel(n_jobs=1)]: Done   1 out of   1 | elapsed:    0.0s remaining:    0.0s\n"
     ]
    },
    {
     "name": "stdout",
     "output_type": "stream",
     "text": [
      "[CV] C=1e-05 .........................................................\n",
      "[CV] .......................................... C=1e-05, total=   0.0s\n",
      "[CV] C=1e-05 .........................................................\n",
      "[CV] .......................................... C=1e-05, total=   0.0s\n",
      "[CV] C=8.483428982440725e-05 .........................................\n",
      "[CV] .......................... C=8.483428982440725e-05, total=   0.0s\n",
      "[CV] C=8.483428982440725e-05 .........................................\n",
      "[CV] .......................... C=8.483428982440725e-05, total=   0.0s\n",
      "[CV] C=8.483428982440725e-05 .........................................\n",
      "[CV] .......................... C=8.483428982440725e-05, total=   0.0s\n",
      "[CV] C=8.483428982440725e-05 .........................................\n",
      "[CV] .......................... C=8.483428982440725e-05, total=   0.0s\n",
      "[CV] C=8.483428982440725e-05 .........................................\n",
      "[CV] .......................... C=8.483428982440725e-05, total=   0.0s\n",
      "[CV] C=0.0007196856730011522 .........................................\n",
      "[CV] .......................... C=0.0007196856730011522, total=   0.0s\n",
      "[CV] C=0.0007196856730011522 .........................................\n",
      "[CV] .......................... C=0.0007196856730011522, total=   0.0s\n",
      "[CV] C=0.0007196856730011522 .........................................\n",
      "[CV] .......................... C=0.0007196856730011522, total=   0.0s\n",
      "[CV] C=0.0007196856730011522 .........................................\n",
      "[CV] .......................... C=0.0007196856730011522, total=   0.0s\n",
      "[CV] C=0.0007196856730011522 .........................................\n",
      "[CV] .......................... C=0.0007196856730011522, total=   0.0s\n",
      "[CV] C=0.006105402296585327 ..........................................\n",
      "[CV] ........................... C=0.006105402296585327, total=   0.0s\n",
      "[CV] C=0.006105402296585327 ..........................................\n",
      "[CV] ........................... C=0.006105402296585327, total=   0.0s\n",
      "[CV] C=0.006105402296585327 ..........................................\n",
      "[CV] ........................... C=0.006105402296585327, total=   0.0s\n",
      "[CV] C=0.006105402296585327 ..........................................\n",
      "[CV] ........................... C=0.006105402296585327, total=   0.0s\n",
      "[CV] C=0.006105402296585327 ..........................................\n",
      "[CV] ........................... C=0.006105402296585327, total=   0.0s\n",
      "[CV] C=0.05179474679231213 ...........................................\n",
      "[CV] ............................ C=0.05179474679231213, total=   0.0s\n",
      "[CV] C=0.05179474679231213 ...........................................\n",
      "[CV] ............................ C=0.05179474679231213, total=   0.0s\n",
      "[CV] C=0.05179474679231213 ...........................................\n",
      "[CV] ............................ C=0.05179474679231213, total=   0.0s\n",
      "[CV] C=0.05179474679231213 ...........................................\n",
      "[CV] ............................ C=0.05179474679231213, total=   0.0s\n",
      "[CV] C=0.05179474679231213 ...........................................\n",
      "[CV] ............................ C=0.05179474679231213, total=   0.0s\n",
      "[CV] C=0.4393970560760795 ............................................\n",
      "[CV] ............................. C=0.4393970560760795, total=   0.0s\n",
      "[CV] C=0.4393970560760795 ............................................\n",
      "[CV] ............................. C=0.4393970560760795, total=   0.0s\n",
      "[CV] C=0.4393970560760795 ............................................\n",
      "[CV] ............................. C=0.4393970560760795, total=   0.0s\n",
      "[CV] C=0.4393970560760795 ............................................\n",
      "[CV] ............................. C=0.4393970560760795, total=   0.0s\n",
      "[CV] C=0.4393970560760795 ............................................\n",
      "[CV] ............................. C=0.4393970560760795, total=   0.0s\n",
      "[CV] C=3.727593720314938 .............................................\n",
      "[CV] .............................. C=3.727593720314938, total=   0.0s\n",
      "[CV] C=3.727593720314938 .............................................\n",
      "[CV] .............................. C=3.727593720314938, total=   0.0s\n",
      "[CV] C=3.727593720314938 .............................................\n",
      "[CV] .............................. C=3.727593720314938, total=   0.0s\n",
      "[CV] C=3.727593720314938 .............................................\n",
      "[CV] .............................. C=3.727593720314938, total=   0.0s\n",
      "[CV] C=3.727593720314938 .............................................\n",
      "[CV] .............................. C=3.727593720314938, total=   0.0s\n",
      "[CV] C=31.622776601683793 ............................................\n",
      "[CV] ............................. C=31.622776601683793, total=   0.0s\n",
      "[CV] C=31.622776601683793 ............................................\n",
      "[CV] ............................. C=31.622776601683793, total=   0.0s\n",
      "[CV] C=31.622776601683793 ............................................\n",
      "[CV] ............................. C=31.622776601683793, total=   0.0s\n",
      "[CV] C=31.622776601683793 ............................................\n",
      "[CV] ............................. C=31.622776601683793, total=   0.0s\n",
      "[CV] C=31.622776601683793 ............................................\n",
      "[CV] ............................. C=31.622776601683793, total=   0.0s\n",
      "[CV] C=268.2695795279727 .............................................\n",
      "[CV] .............................. C=268.2695795279727, total=   0.0s\n",
      "[CV] C=268.2695795279727 .............................................\n",
      "[CV] .............................. C=268.2695795279727, total=   0.0s\n",
      "[CV] C=268.2695795279727 .............................................\n",
      "[CV] .............................. C=268.2695795279727, total=   0.0s\n",
      "[CV] C=268.2695795279727 .............................................\n",
      "[CV] .............................. C=268.2695795279727, total=   0.0s\n",
      "[CV] C=268.2695795279727 .............................................\n",
      "[CV] .............................. C=268.2695795279727, total=   0.0s\n",
      "[CV] C=2275.845926074791 .............................................\n",
      "[CV] .............................. C=2275.845926074791, total=   0.0s\n",
      "[CV] C=2275.845926074791 .............................................\n",
      "[CV] .............................. C=2275.845926074791, total=   0.0s\n",
      "[CV] C=2275.845926074791 .............................................\n",
      "[CV] .............................. C=2275.845926074791, total=   0.0s\n",
      "[CV] C=2275.845926074791 .............................................\n",
      "[CV] .............................. C=2275.845926074791, total=   0.0s\n",
      "[CV] C=2275.845926074791 .............................................\n",
      "[CV] .............................. C=2275.845926074791, total=   0.0s\n",
      "[CV] C=19306.977288832535 ............................................\n",
      "[CV] ............................. C=19306.977288832535, total=   0.0s\n",
      "[CV] C=19306.977288832535 ............................................\n",
      "[CV] ............................. C=19306.977288832535, total=   0.0s\n",
      "[CV] C=19306.977288832535 ............................................\n",
      "[CV] ............................. C=19306.977288832535, total=   0.0s\n",
      "[CV] C=19306.977288832535 ............................................\n",
      "[CV] ............................. C=19306.977288832535, total=   0.0s\n",
      "[CV] C=19306.977288832535 ............................................\n",
      "[CV] ............................. C=19306.977288832535, total=   0.0s\n",
      "[CV] C=163789.3706954068 .............................................\n",
      "[CV] .............................. C=163789.3706954068, total=   0.0s\n",
      "[CV] C=163789.3706954068 .............................................\n",
      "[CV] .............................. C=163789.3706954068, total=   0.0s\n",
      "[CV] C=163789.3706954068 .............................................\n",
      "[CV] .............................. C=163789.3706954068, total=   0.0s\n",
      "[CV] C=163789.3706954068 .............................................\n",
      "[CV] .............................. C=163789.3706954068, total=   0.0s\n",
      "[CV] C=163789.3706954068 .............................................\n",
      "[CV] .............................. C=163789.3706954068, total=   0.0s\n",
      "[CV] C=1389495.494373136 .............................................\n",
      "[CV] .............................. C=1389495.494373136, total=   0.0s\n",
      "[CV] C=1389495.494373136 .............................................\n"
     ]
    },
    {
     "name": "stdout",
     "output_type": "stream",
     "text": [
      "[CV] .............................. C=1389495.494373136, total=   0.0s\n",
      "[CV] C=1389495.494373136 .............................................\n",
      "[CV] .............................. C=1389495.494373136, total=   0.0s\n",
      "[CV] C=1389495.494373136 .............................................\n",
      "[CV] .............................. C=1389495.494373136, total=   0.0s\n",
      "[CV] C=1389495.494373136 .............................................\n",
      "[CV] .............................. C=1389495.494373136, total=   0.0s\n",
      "[CV] C=11787686.347935867 ............................................\n",
      "[CV] ............................. C=11787686.347935867, total=   0.0s\n",
      "[CV] C=11787686.347935867 ............................................\n",
      "[CV] ............................. C=11787686.347935867, total=   0.0s\n",
      "[CV] C=11787686.347935867 ............................................\n",
      "[CV] ............................. C=11787686.347935867, total=   0.0s\n",
      "[CV] C=11787686.347935867 ............................................\n",
      "[CV] ............................. C=11787686.347935867, total=   0.0s\n",
      "[CV] C=11787686.347935867 ............................................\n",
      "[CV] ............................. C=11787686.347935867, total=   0.0s\n",
      "[CV] C=100000000.0 ...................................................\n",
      "[CV] .................................... C=100000000.0, total=   0.0s\n",
      "[CV] C=100000000.0 ...................................................\n",
      "[CV] .................................... C=100000000.0, total=   0.0s\n",
      "[CV] C=100000000.0 ...................................................\n",
      "[CV] .................................... C=100000000.0, total=   0.0s\n",
      "[CV] C=100000000.0 ...................................................\n",
      "[CV] .................................... C=100000000.0, total=   0.0s\n",
      "[CV] C=100000000.0 ...................................................\n",
      "[CV] .................................... C=100000000.0, total=   0.0s\n",
      "              precision    recall  f1-score   support\n",
      "\n",
      "           0       0.20      0.89      0.32        88\n",
      "           1       0.98      0.63      0.76       857\n",
      "\n",
      "   micro avg       0.65      0.65      0.65       945\n",
      "   macro avg       0.59      0.76      0.54       945\n",
      "weighted avg       0.91      0.65      0.72       945\n",
      "\n",
      "Fitting 5 folds for each of 15 candidates, totalling 75 fits\n",
      "[CV] C=1e-05 .........................................................\n",
      "[CV] .......................................... C=1e-05, total=   0.0s\n",
      "[CV] C=1e-05 .........................................................\n",
      "[CV] .......................................... C=1e-05, total=   0.0s\n",
      "[CV] C=1e-05 .........................................................\n",
      "[CV] .......................................... C=1e-05, total=   0.0s"
     ]
    },
    {
     "name": "stderr",
     "output_type": "stream",
     "text": [
      "[Parallel(n_jobs=1)]: Done  75 out of  75 | elapsed:    1.3s finished\n",
      "[Parallel(n_jobs=1)]: Using backend SequentialBackend with 1 concurrent workers.\n",
      "[Parallel(n_jobs=1)]: Done   1 out of   1 | elapsed:    0.0s remaining:    0.0s\n"
     ]
    },
    {
     "name": "stdout",
     "output_type": "stream",
     "text": [
      "\n",
      "[CV] C=1e-05 .........................................................\n",
      "[CV] .......................................... C=1e-05, total=   0.0s\n",
      "[CV] C=1e-05 .........................................................\n",
      "[CV] .......................................... C=1e-05, total=   0.0s\n",
      "[CV] C=8.483428982440725e-05 .........................................\n",
      "[CV] .......................... C=8.483428982440725e-05, total=   0.0s\n",
      "[CV] C=8.483428982440725e-05 .........................................\n",
      "[CV] .......................... C=8.483428982440725e-05, total=   0.0s\n",
      "[CV] C=8.483428982440725e-05 .........................................\n",
      "[CV] .......................... C=8.483428982440725e-05, total=   0.0s\n",
      "[CV] C=8.483428982440725e-05 .........................................\n",
      "[CV] .......................... C=8.483428982440725e-05, total=   0.0s\n",
      "[CV] C=8.483428982440725e-05 .........................................\n",
      "[CV] .......................... C=8.483428982440725e-05, total=   0.0s\n",
      "[CV] C=0.0007196856730011522 .........................................\n",
      "[CV] .......................... C=0.0007196856730011522, total=   0.0s\n",
      "[CV] C=0.0007196856730011522 .........................................\n",
      "[CV] .......................... C=0.0007196856730011522, total=   0.0s\n",
      "[CV] C=0.0007196856730011522 .........................................\n",
      "[CV] .......................... C=0.0007196856730011522, total=   0.0s\n",
      "[CV] C=0.0007196856730011522 .........................................\n",
      "[CV] .......................... C=0.0007196856730011522, total=   0.0s\n",
      "[CV] C=0.0007196856730011522 .........................................\n",
      "[CV] .......................... C=0.0007196856730011522, total=   0.0s\n",
      "[CV] C=0.006105402296585327 ..........................................\n",
      "[CV] ........................... C=0.006105402296585327, total=   0.0s\n",
      "[CV] C=0.006105402296585327 ..........................................\n",
      "[CV] ........................... C=0.006105402296585327, total=   0.0s\n",
      "[CV] C=0.006105402296585327 ..........................................\n",
      "[CV] ........................... C=0.006105402296585327, total=   0.0s\n",
      "[CV] C=0.006105402296585327 ..........................................\n",
      "[CV] ........................... C=0.006105402296585327, total=   0.0s\n",
      "[CV] C=0.006105402296585327 ..........................................\n",
      "[CV] ........................... C=0.006105402296585327, total=   0.0s\n",
      "[CV] C=0.05179474679231213 ...........................................\n",
      "[CV] ............................ C=0.05179474679231213, total=   0.0s\n",
      "[CV] C=0.05179474679231213 ...........................................\n",
      "[CV] ............................ C=0.05179474679231213, total=   0.0s\n",
      "[CV] C=0.05179474679231213 ...........................................\n",
      "[CV] ............................ C=0.05179474679231213, total=   0.0s\n",
      "[CV] C=0.05179474679231213 ...........................................\n",
      "[CV] ............................ C=0.05179474679231213, total=   0.0s\n",
      "[CV] C=0.05179474679231213 ...........................................\n",
      "[CV] ............................ C=0.05179474679231213, total=   0.0s\n",
      "[CV] C=0.4393970560760795 ............................................\n",
      "[CV] ............................. C=0.4393970560760795, total=   0.0s\n",
      "[CV] C=0.4393970560760795 ............................................\n",
      "[CV] ............................. C=0.4393970560760795, total=   0.0s\n",
      "[CV] C=0.4393970560760795 ............................................\n",
      "[CV] ............................. C=0.4393970560760795, total=   0.0s\n",
      "[CV] C=0.4393970560760795 ............................................\n",
      "[CV] ............................. C=0.4393970560760795, total=   0.0s\n",
      "[CV] C=0.4393970560760795 ............................................\n",
      "[CV] ............................. C=0.4393970560760795, total=   0.0s\n",
      "[CV] C=3.727593720314938 .............................................\n",
      "[CV] .............................. C=3.727593720314938, total=   0.0s\n",
      "[CV] C=3.727593720314938 .............................................\n",
      "[CV] .............................. C=3.727593720314938, total=   0.0s\n",
      "[CV] C=3.727593720314938 .............................................\n",
      "[CV] .............................. C=3.727593720314938, total=   0.0s\n",
      "[CV] C=3.727593720314938 .............................................\n",
      "[CV] .............................. C=3.727593720314938, total=   0.0s\n",
      "[CV] C=3.727593720314938 .............................................\n",
      "[CV] .............................. C=3.727593720314938, total=   0.0s\n",
      "[CV] C=31.622776601683793 ............................................\n",
      "[CV] ............................. C=31.622776601683793, total=   0.0s\n",
      "[CV] C=31.622776601683793 ............................................\n",
      "[CV] ............................. C=31.622776601683793, total=   0.0s\n",
      "[CV] C=31.622776601683793 ............................................\n",
      "[CV] ............................. C=31.622776601683793, total=   0.0s\n",
      "[CV] C=31.622776601683793 ............................................\n",
      "[CV] ............................. C=31.622776601683793, total=   0.0s\n",
      "[CV] C=31.622776601683793 ............................................\n",
      "[CV] ............................. C=31.622776601683793, total=   0.0s\n",
      "[CV] C=268.2695795279727 .............................................\n",
      "[CV] .............................. C=268.2695795279727, total=   0.0s\n",
      "[CV] C=268.2695795279727 .............................................\n",
      "[CV] .............................. C=268.2695795279727, total=   0.0s\n",
      "[CV] C=268.2695795279727 .............................................\n",
      "[CV] .............................. C=268.2695795279727, total=   0.0s\n",
      "[CV] C=268.2695795279727 .............................................\n",
      "[CV] .............................. C=268.2695795279727, total=   0.0s\n",
      "[CV] C=268.2695795279727 .............................................\n",
      "[CV] .............................. C=268.2695795279727, total=   0.0s\n",
      "[CV] C=2275.845926074791 .............................................\n",
      "[CV] .............................. C=2275.845926074791, total=   0.0s\n",
      "[CV] C=2275.845926074791 .............................................\n",
      "[CV] .............................. C=2275.845926074791, total=   0.0s\n",
      "[CV] C=2275.845926074791 .............................................\n",
      "[CV] .............................. C=2275.845926074791, total=   0.0s\n",
      "[CV] C=2275.845926074791 .............................................\n",
      "[CV] .............................. C=2275.845926074791, total=   0.0s\n",
      "[CV] C=2275.845926074791 .............................................\n",
      "[CV] .............................. C=2275.845926074791, total=   0.0s\n",
      "[CV] C=19306.977288832535 ............................................\n",
      "[CV] ............................. C=19306.977288832535, total=   0.0s\n",
      "[CV] C=19306.977288832535 ............................................\n",
      "[CV] ............................. C=19306.977288832535, total=   0.0s\n",
      "[CV] C=19306.977288832535 ............................................\n",
      "[CV] ............................. C=19306.977288832535, total=   0.0s\n",
      "[CV] C=19306.977288832535 ............................................\n",
      "[CV] ............................. C=19306.977288832535, total=   0.0s\n",
      "[CV] C=19306.977288832535 ............................................\n",
      "[CV] ............................. C=19306.977288832535, total=   0.0s\n",
      "[CV] C=163789.3706954068 .............................................\n",
      "[CV] .............................. C=163789.3706954068, total=   0.0s\n",
      "[CV] C=163789.3706954068 .............................................\n",
      "[CV] .............................. C=163789.3706954068, total=   0.0s\n",
      "[CV] C=163789.3706954068 .............................................\n",
      "[CV] .............................. C=163789.3706954068, total=   0.0s\n",
      "[CV] C=163789.3706954068 .............................................\n",
      "[CV] .............................. C=163789.3706954068, total=   0.0s\n",
      "[CV] C=163789.3706954068 .............................................\n",
      "[CV] .............................. C=163789.3706954068, total=   0.0s\n",
      "[CV] C=1389495.494373136 .............................................\n",
      "[CV] .............................. C=1389495.494373136, total=   0.0s\n",
      "[CV] C=1389495.494373136 .............................................\n",
      "[CV] .............................. C=1389495.494373136, total=   0.0s\n",
      "[CV] C=1389495.494373136 .............................................\n",
      "[CV] .............................. C=1389495.494373136, total=   0.0s\n"
     ]
    },
    {
     "name": "stdout",
     "output_type": "stream",
     "text": [
      "[CV] C=1389495.494373136 .............................................\n",
      "[CV] .............................. C=1389495.494373136, total=   0.0s\n",
      "[CV] C=1389495.494373136 .............................................\n",
      "[CV] .............................. C=1389495.494373136, total=   0.0s\n",
      "[CV] C=11787686.347935867 ............................................\n",
      "[CV] ............................. C=11787686.347935867, total=   0.0s\n",
      "[CV] C=11787686.347935867 ............................................\n",
      "[CV] ............................. C=11787686.347935867, total=   0.0s\n",
      "[CV] C=11787686.347935867 ............................................\n",
      "[CV] ............................. C=11787686.347935867, total=   0.0s\n",
      "[CV] C=11787686.347935867 ............................................\n",
      "[CV] ............................. C=11787686.347935867, total=   0.0s\n",
      "[CV] C=11787686.347935867 ............................................\n",
      "[CV] ............................. C=11787686.347935867, total=   0.0s\n",
      "[CV] C=100000000.0 ...................................................\n",
      "[CV] .................................... C=100000000.0, total=   0.0s\n",
      "[CV] C=100000000.0 ...................................................\n",
      "[CV] .................................... C=100000000.0, total=   0.0s\n",
      "[CV] C=100000000.0 ...................................................\n",
      "[CV] .................................... C=100000000.0, total=   0.0s\n",
      "[CV] C=100000000.0 ...................................................\n",
      "[CV] .................................... C=100000000.0, total=   0.0s\n",
      "[CV] C=100000000.0 ...................................................\n",
      "[CV] .................................... C=100000000.0, total=   0.0s\n",
      "              precision    recall  f1-score   support\n",
      "\n",
      "           0       0.17      0.91      0.29        88\n",
      "           1       0.98      0.55      0.70       857\n",
      "\n",
      "   micro avg       0.58      0.58      0.58       945\n",
      "   macro avg       0.58      0.73      0.50       945\n",
      "weighted avg       0.91      0.58      0.67       945\n",
      "\n",
      "Fitting 5 folds for each of 15 candidates, totalling 75 fits\n",
      "[CV] C=1e-05 .........................................................\n",
      "[CV] .......................................... C=1e-05, total=   0.0s\n",
      "[CV] C=1e-05 .........................................................\n"
     ]
    },
    {
     "name": "stderr",
     "output_type": "stream",
     "text": [
      "[Parallel(n_jobs=1)]: Done  75 out of  75 | elapsed:    1.4s finished\n",
      "[Parallel(n_jobs=1)]: Using backend SequentialBackend with 1 concurrent workers.\n",
      "[Parallel(n_jobs=1)]: Done   1 out of   1 | elapsed:    0.0s remaining:    0.0s\n"
     ]
    },
    {
     "name": "stdout",
     "output_type": "stream",
     "text": [
      "[CV] .......................................... C=1e-05, total=   0.0s\n",
      "[CV] C=1e-05 .........................................................\n",
      "[CV] .......................................... C=1e-05, total=   0.0s\n",
      "[CV] C=1e-05 .........................................................\n",
      "[CV] .......................................... C=1e-05, total=   0.0s\n",
      "[CV] C=1e-05 .........................................................\n",
      "[CV] .......................................... C=1e-05, total=   0.0s\n",
      "[CV] C=8.483428982440725e-05 .........................................\n",
      "[CV] .......................... C=8.483428982440725e-05, total=   0.0s\n",
      "[CV] C=8.483428982440725e-05 .........................................\n",
      "[CV] .......................... C=8.483428982440725e-05, total=   0.0s\n",
      "[CV] C=8.483428982440725e-05 .........................................\n",
      "[CV] .......................... C=8.483428982440725e-05, total=   0.0s\n",
      "[CV] C=8.483428982440725e-05 .........................................\n",
      "[CV] .......................... C=8.483428982440725e-05, total=   0.0s\n",
      "[CV] C=8.483428982440725e-05 .........................................\n",
      "[CV] .......................... C=8.483428982440725e-05, total=   0.0s\n",
      "[CV] C=0.0007196856730011522 .........................................\n",
      "[CV] .......................... C=0.0007196856730011522, total=   0.0s\n",
      "[CV] C=0.0007196856730011522 .........................................\n",
      "[CV] .......................... C=0.0007196856730011522, total=   0.0s\n",
      "[CV] C=0.0007196856730011522 .........................................\n",
      "[CV] .......................... C=0.0007196856730011522, total=   0.0s\n",
      "[CV] C=0.0007196856730011522 .........................................\n",
      "[CV] .......................... C=0.0007196856730011522, total=   0.0s\n",
      "[CV] C=0.0007196856730011522 .........................................\n",
      "[CV] .......................... C=0.0007196856730011522, total=   0.0s\n",
      "[CV] C=0.006105402296585327 ..........................................\n",
      "[CV] ........................... C=0.006105402296585327, total=   0.0s\n",
      "[CV] C=0.006105402296585327 ..........................................\n",
      "[CV] ........................... C=0.006105402296585327, total=   0.0s\n",
      "[CV] C=0.006105402296585327 ..........................................\n",
      "[CV] ........................... C=0.006105402296585327, total=   0.0s\n",
      "[CV] C=0.006105402296585327 ..........................................\n",
      "[CV] ........................... C=0.006105402296585327, total=   0.0s\n",
      "[CV] C=0.006105402296585327 ..........................................\n",
      "[CV] ........................... C=0.006105402296585327, total=   0.0s\n",
      "[CV] C=0.05179474679231213 ...........................................\n",
      "[CV] ............................ C=0.05179474679231213, total=   0.0s\n",
      "[CV] C=0.05179474679231213 ...........................................\n",
      "[CV] ............................ C=0.05179474679231213, total=   0.0s\n",
      "[CV] C=0.05179474679231213 ...........................................\n",
      "[CV] ............................ C=0.05179474679231213, total=   0.0s\n",
      "[CV] C=0.05179474679231213 ...........................................\n",
      "[CV] ............................ C=0.05179474679231213, total=   0.0s\n",
      "[CV] C=0.05179474679231213 ...........................................\n",
      "[CV] ............................ C=0.05179474679231213, total=   0.0s\n",
      "[CV] C=0.4393970560760795 ............................................\n",
      "[CV] ............................. C=0.4393970560760795, total=   0.0s\n",
      "[CV] C=0.4393970560760795 ............................................\n",
      "[CV] ............................. C=0.4393970560760795, total=   0.0s\n",
      "[CV] C=0.4393970560760795 ............................................\n",
      "[CV] ............................. C=0.4393970560760795, total=   0.0s\n",
      "[CV] C=0.4393970560760795 ............................................\n",
      "[CV] ............................. C=0.4393970560760795, total=   0.0s\n",
      "[CV] C=0.4393970560760795 ............................................\n",
      "[CV] ............................. C=0.4393970560760795, total=   0.0s\n",
      "[CV] C=3.727593720314938 .............................................\n",
      "[CV] .............................. C=3.727593720314938, total=   0.0s\n",
      "[CV] C=3.727593720314938 .............................................\n",
      "[CV] .............................. C=3.727593720314938, total=   0.0s\n",
      "[CV] C=3.727593720314938 .............................................\n",
      "[CV] .............................. C=3.727593720314938, total=   0.0s\n",
      "[CV] C=3.727593720314938 .............................................\n",
      "[CV] .............................. C=3.727593720314938, total=   0.0s\n",
      "[CV] C=3.727593720314938 .............................................\n",
      "[CV] .............................. C=3.727593720314938, total=   0.0s\n",
      "[CV] C=31.622776601683793 ............................................\n",
      "[CV] ............................. C=31.622776601683793, total=   0.0s\n",
      "[CV] C=31.622776601683793 ............................................\n",
      "[CV] ............................. C=31.622776601683793, total=   0.0s\n",
      "[CV] C=31.622776601683793 ............................................\n",
      "[CV] ............................. C=31.622776601683793, total=   0.0s\n",
      "[CV] C=31.622776601683793 ............................................\n",
      "[CV] ............................. C=31.622776601683793, total=   0.0s\n",
      "[CV] C=31.622776601683793 ............................................\n",
      "[CV] ............................. C=31.622776601683793, total=   0.0s\n",
      "[CV] C=268.2695795279727 .............................................\n",
      "[CV] .............................. C=268.2695795279727, total=   0.0s\n",
      "[CV] C=268.2695795279727 .............................................\n",
      "[CV] .............................. C=268.2695795279727, total=   0.0s\n",
      "[CV] C=268.2695795279727 .............................................\n",
      "[CV] .............................. C=268.2695795279727, total=   0.0s\n",
      "[CV] C=268.2695795279727 .............................................\n",
      "[CV] .............................. C=268.2695795279727, total=   0.0s\n",
      "[CV] C=268.2695795279727 .............................................\n",
      "[CV] .............................. C=268.2695795279727, total=   0.0s\n",
      "[CV] C=2275.845926074791 .............................................\n",
      "[CV] .............................. C=2275.845926074791, total=   0.0s\n",
      "[CV] C=2275.845926074791 .............................................\n",
      "[CV] .............................. C=2275.845926074791, total=   0.0s\n",
      "[CV] C=2275.845926074791 .............................................\n",
      "[CV] .............................. C=2275.845926074791, total=   0.0s\n",
      "[CV] C=2275.845926074791 .............................................\n",
      "[CV] .............................. C=2275.845926074791, total=   0.0s\n",
      "[CV] C=2275.845926074791 .............................................\n",
      "[CV] .............................. C=2275.845926074791, total=   0.0s\n",
      "[CV] C=19306.977288832535 ............................................\n",
      "[CV] ............................. C=19306.977288832535, total=   0.0s\n",
      "[CV] C=19306.977288832535 ............................................\n",
      "[CV] ............................. C=19306.977288832535, total=   0.0s\n",
      "[CV] C=19306.977288832535 ............................................\n",
      "[CV] ............................. C=19306.977288832535, total=   0.0s\n",
      "[CV] C=19306.977288832535 ............................................\n",
      "[CV] ............................. C=19306.977288832535, total=   0.0s\n",
      "[CV] C=19306.977288832535 ............................................\n",
      "[CV] ............................. C=19306.977288832535, total=   0.0s\n",
      "[CV] C=163789.3706954068 .............................................\n",
      "[CV] .............................. C=163789.3706954068, total=   0.0s\n",
      "[CV] C=163789.3706954068 .............................................\n",
      "[CV] .............................. C=163789.3706954068, total=   0.0s\n",
      "[CV] C=163789.3706954068 .............................................\n",
      "[CV] .............................. C=163789.3706954068, total=   0.0s\n",
      "[CV] C=163789.3706954068 .............................................\n",
      "[CV] .............................. C=163789.3706954068, total=   0.0s\n"
     ]
    },
    {
     "name": "stdout",
     "output_type": "stream",
     "text": [
      "[CV] C=163789.3706954068 .............................................\n",
      "[CV] .............................. C=163789.3706954068, total=   0.0s\n",
      "[CV] C=1389495.494373136 .............................................\n",
      "[CV] .............................. C=1389495.494373136, total=   0.0s\n",
      "[CV] C=1389495.494373136 .............................................\n",
      "[CV] .............................. C=1389495.494373136, total=   0.0s\n",
      "[CV] C=1389495.494373136 .............................................\n",
      "[CV] .............................. C=1389495.494373136, total=   0.0s\n",
      "[CV] C=1389495.494373136 .............................................\n",
      "[CV] .............................. C=1389495.494373136, total=   0.0s\n",
      "[CV] C=1389495.494373136 .............................................\n",
      "[CV] .............................. C=1389495.494373136, total=   0.0s\n",
      "[CV] C=11787686.347935867 ............................................\n",
      "[CV] ............................. C=11787686.347935867, total=   0.0s\n",
      "[CV] C=11787686.347935867 ............................................\n",
      "[CV] ............................. C=11787686.347935867, total=   0.0s\n",
      "[CV] C=11787686.347935867 ............................................\n",
      "[CV] ............................. C=11787686.347935867, total=   0.0s\n",
      "[CV] C=11787686.347935867 ............................................\n",
      "[CV] ............................. C=11787686.347935867, total=   0.0s\n",
      "[CV] C=11787686.347935867 ............................................\n",
      "[CV] ............................. C=11787686.347935867, total=   0.0s\n",
      "[CV] C=100000000.0 ...................................................\n",
      "[CV] .................................... C=100000000.0, total=   0.0s\n",
      "[CV] C=100000000.0 ...................................................\n",
      "[CV] .................................... C=100000000.0, total=   0.0s\n",
      "[CV] C=100000000.0 ...................................................\n",
      "[CV] .................................... C=100000000.0, total=   0.0s\n",
      "[CV] C=100000000.0 ...................................................\n",
      "[CV] .................................... C=100000000.0, total=   0.0s\n",
      "[CV] C=100000000.0 ...................................................\n",
      "[CV] .................................... C=100000000.0, total=   0.0s\n",
      "              precision    recall  f1-score   support\n",
      "\n",
      "           0       0.26      0.91      0.40        88\n",
      "           1       0.99      0.73      0.84       857\n",
      "\n",
      "   micro avg       0.75      0.75      0.75       945\n",
      "   macro avg       0.62      0.82      0.62       945\n",
      "weighted avg       0.92      0.75      0.80       945\n"
     ]
    },
    {
     "name": "stderr",
     "output_type": "stream",
     "text": [
      "[Parallel(n_jobs=1)]: Done  75 out of  75 | elapsed:    7.4s finished\n",
      "[Parallel(n_jobs=1)]: Using backend SequentialBackend with 1 concurrent workers.\n"
     ]
    },
    {
     "name": "stdout",
     "output_type": "stream",
     "text": [
      "\n",
      "Fitting 5 folds for each of 15 candidates, totalling 75 fits\n",
      "[CV] C=1e-05 .........................................................\n",
      "[CV] .......................................... C=1e-05, total=   0.0s\n",
      "[CV] C=1e-05 .........................................................\n",
      "[CV] .......................................... C=1e-05, total=   0.0s\n",
      "[CV] C=1e-05 .........................................................\n"
     ]
    },
    {
     "name": "stderr",
     "output_type": "stream",
     "text": [
      "[Parallel(n_jobs=1)]: Done   1 out of   1 | elapsed:    0.1s remaining:    0.0s\n"
     ]
    },
    {
     "name": "stdout",
     "output_type": "stream",
     "text": [
      "[CV] .......................................... C=1e-05, total=   0.0s\n",
      "[CV] C=1e-05 .........................................................\n",
      "[CV] .......................................... C=1e-05, total=   0.0s\n",
      "[CV] C=1e-05 .........................................................\n",
      "[CV] .......................................... C=1e-05, total=   0.0s\n",
      "[CV] C=8.483428982440725e-05 .........................................\n",
      "[CV] .......................... C=8.483428982440725e-05, total=   0.0s\n",
      "[CV] C=8.483428982440725e-05 .........................................\n",
      "[CV] .......................... C=8.483428982440725e-05, total=   0.0s\n",
      "[CV] C=8.483428982440725e-05 .........................................\n",
      "[CV] .......................... C=8.483428982440725e-05, total=   0.0s\n",
      "[CV] C=8.483428982440725e-05 .........................................\n",
      "[CV] .......................... C=8.483428982440725e-05, total=   0.0s\n",
      "[CV] C=8.483428982440725e-05 .........................................\n",
      "[CV] .......................... C=8.483428982440725e-05, total=   0.0s\n",
      "[CV] C=0.0007196856730011522 .........................................\n",
      "[CV] .......................... C=0.0007196856730011522, total=   0.0s\n",
      "[CV] C=0.0007196856730011522 .........................................\n",
      "[CV] .......................... C=0.0007196856730011522, total=   0.0s\n",
      "[CV] C=0.0007196856730011522 .........................................\n",
      "[CV] .......................... C=0.0007196856730011522, total=   0.0s\n",
      "[CV] C=0.0007196856730011522 .........................................\n",
      "[CV] .......................... C=0.0007196856730011522, total=   0.0s\n",
      "[CV] C=0.0007196856730011522 .........................................\n",
      "[CV] .......................... C=0.0007196856730011522, total=   0.0s\n",
      "[CV] C=0.006105402296585327 ..........................................\n",
      "[CV] ........................... C=0.006105402296585327, total=   0.0s\n",
      "[CV] C=0.006105402296585327 ..........................................\n",
      "[CV] ........................... C=0.006105402296585327, total=   0.0s\n",
      "[CV] C=0.006105402296585327 ..........................................\n",
      "[CV] ........................... C=0.006105402296585327, total=   0.0s\n",
      "[CV] C=0.006105402296585327 ..........................................\n",
      "[CV] ........................... C=0.006105402296585327, total=   0.0s\n",
      "[CV] C=0.006105402296585327 ..........................................\n",
      "[CV] ........................... C=0.006105402296585327, total=   0.0s\n",
      "[CV] C=0.05179474679231213 ...........................................\n",
      "[CV] ............................ C=0.05179474679231213, total=   0.0s\n",
      "[CV] C=0.05179474679231213 ...........................................\n",
      "[CV] ............................ C=0.05179474679231213, total=   0.0s\n",
      "[CV] C=0.05179474679231213 ...........................................\n",
      "[CV] ............................ C=0.05179474679231213, total=   0.0s\n",
      "[CV] C=0.05179474679231213 ...........................................\n",
      "[CV] ............................ C=0.05179474679231213, total=   0.0s\n",
      "[CV] C=0.05179474679231213 ...........................................\n",
      "[CV] ............................ C=0.05179474679231213, total=   0.0s\n",
      "[CV] C=0.4393970560760795 ............................................\n",
      "[CV] ............................. C=0.4393970560760795, total=   0.0s\n",
      "[CV] C=0.4393970560760795 ............................................\n",
      "[CV] ............................. C=0.4393970560760795, total=   0.0s\n",
      "[CV] C=0.4393970560760795 ............................................\n",
      "[CV] ............................. C=0.4393970560760795, total=   0.0s\n",
      "[CV] C=0.4393970560760795 ............................................\n",
      "[CV] ............................. C=0.4393970560760795, total=   0.0s\n",
      "[CV] C=0.4393970560760795 ............................................\n",
      "[CV] ............................. C=0.4393970560760795, total=   0.0s\n",
      "[CV] C=3.727593720314938 .............................................\n",
      "[CV] .............................. C=3.727593720314938, total=   0.0s\n",
      "[CV] C=3.727593720314938 .............................................\n",
      "[CV] .............................. C=3.727593720314938, total=   0.0s\n",
      "[CV] C=3.727593720314938 .............................................\n",
      "[CV] .............................. C=3.727593720314938, total=   0.0s\n",
      "[CV] C=3.727593720314938 .............................................\n",
      "[CV] .............................. C=3.727593720314938, total=   0.0s\n",
      "[CV] C=3.727593720314938 .............................................\n",
      "[CV] .............................. C=3.727593720314938, total=   0.1s\n",
      "[CV] C=31.622776601683793 ............................................\n",
      "[CV] ............................. C=31.622776601683793, total=   0.0s\n",
      "[CV] C=31.622776601683793 ............................................\n",
      "[CV] ............................. C=31.622776601683793, total=   0.0s\n",
      "[CV] C=31.622776601683793 ............................................\n",
      "[CV] ............................. C=31.622776601683793, total=   0.0s\n",
      "[CV] C=31.622776601683793 ............................................\n",
      "[CV] ............................. C=31.622776601683793, total=   0.0s\n",
      "[CV] C=31.622776601683793 ............................................\n",
      "[CV] ............................. C=31.622776601683793, total=   0.0s\n",
      "[CV] C=268.2695795279727 .............................................\n",
      "[CV] .............................. C=268.2695795279727, total=   0.0s\n",
      "[CV] C=268.2695795279727 .............................................\n",
      "[CV] .............................. C=268.2695795279727, total=   0.1s\n",
      "[CV] C=268.2695795279727 .............................................\n",
      "[CV] .............................. C=268.2695795279727, total=   0.0s\n",
      "[CV] C=268.2695795279727 .............................................\n",
      "[CV] .............................. C=268.2695795279727, total=   0.1s\n",
      "[CV] C=268.2695795279727 .............................................\n",
      "[CV] .............................. C=268.2695795279727, total=   0.0s\n",
      "[CV] C=2275.845926074791 .............................................\n",
      "[CV] .............................. C=2275.845926074791, total=   0.0s\n",
      "[CV] C=2275.845926074791 .............................................\n",
      "[CV] .............................. C=2275.845926074791, total=   0.0s\n",
      "[CV] C=2275.845926074791 .............................................\n",
      "[CV] .............................. C=2275.845926074791, total=   0.0s\n",
      "[CV] C=2275.845926074791 .............................................\n",
      "[CV] .............................. C=2275.845926074791, total=   0.0s\n",
      "[CV] C=2275.845926074791 .............................................\n",
      "[CV] .............................. C=2275.845926074791, total=   0.0s\n",
      "[CV] C=19306.977288832535 ............................................\n",
      "[CV] ............................. C=19306.977288832535, total=   0.0s\n",
      "[CV] C=19306.977288832535 ............................................\n",
      "[CV] ............................. C=19306.977288832535, total=   0.0s\n",
      "[CV] C=19306.977288832535 ............................................\n",
      "[CV] ............................. C=19306.977288832535, total=   0.1s\n",
      "[CV] C=19306.977288832535 ............................................\n",
      "[CV] ............................. C=19306.977288832535, total=   0.0s\n",
      "[CV] C=19306.977288832535 ............................................\n",
      "[CV] ............................. C=19306.977288832535, total=   0.0s\n",
      "[CV] C=163789.3706954068 .............................................\n",
      "[CV] .............................. C=163789.3706954068, total=   0.0s\n",
      "[CV] C=163789.3706954068 .............................................\n",
      "[CV] .............................. C=163789.3706954068, total=   0.0s\n",
      "[CV] C=163789.3706954068 .............................................\n",
      "[CV] .............................. C=163789.3706954068, total=   0.0s\n",
      "[CV] C=163789.3706954068 .............................................\n",
      "[CV] .............................. C=163789.3706954068, total=   0.0s\n",
      "[CV] C=163789.3706954068 .............................................\n",
      "[CV] .............................. C=163789.3706954068, total=   0.1s\n",
      "[CV] C=1389495.494373136 .............................................\n"
     ]
    },
    {
     "name": "stdout",
     "output_type": "stream",
     "text": [
      "[CV] .............................. C=1389495.494373136, total=   0.0s\n",
      "[CV] C=1389495.494373136 .............................................\n",
      "[CV] .............................. C=1389495.494373136, total=   0.0s\n",
      "[CV] C=1389495.494373136 .............................................\n",
      "[CV] .............................. C=1389495.494373136, total=   0.0s\n",
      "[CV] C=1389495.494373136 .............................................\n",
      "[CV] .............................. C=1389495.494373136, total=   0.0s\n",
      "[CV] C=1389495.494373136 .............................................\n",
      "[CV] .............................. C=1389495.494373136, total=   0.0s\n",
      "[CV] C=11787686.347935867 ............................................\n",
      "[CV] ............................. C=11787686.347935867, total=   0.0s\n",
      "[CV] C=11787686.347935867 ............................................\n",
      "[CV] ............................. C=11787686.347935867, total=   0.0s\n",
      "[CV] C=11787686.347935867 ............................................\n",
      "[CV] ............................. C=11787686.347935867, total=   0.0s\n",
      "[CV] C=11787686.347935867 ............................................\n",
      "[CV] ............................. C=11787686.347935867, total=   0.0s\n",
      "[CV] C=11787686.347935867 ............................................\n",
      "[CV] ............................. C=11787686.347935867, total=   0.0s\n",
      "[CV] C=100000000.0 ...................................................\n",
      "[CV] .................................... C=100000000.0, total=   0.0s\n",
      "[CV] C=100000000.0 ...................................................\n",
      "[CV] .................................... C=100000000.0, total=   0.0s\n",
      "[CV] C=100000000.0 ...................................................\n",
      "[CV] .................................... C=100000000.0, total=   0.0s\n",
      "[CV] C=100000000.0 ...................................................\n",
      "[CV] .................................... C=100000000.0, total=   0.0s\n",
      "[CV] C=100000000.0 ...................................................\n",
      "[CV] .................................... C=100000000.0, total=   0.1s\n",
      "              precision    recall  f1-score   support\n",
      "\n",
      "           0       0.55      0.75      0.63        88\n",
      "           1       0.97      0.94      0.95       857\n",
      "\n",
      "   micro avg       0.92      0.92      0.92       945\n",
      "   macro avg       0.76      0.84      0.79       945\n",
      "weighted avg       0.93      0.92      0.92       945\n",
      "\n",
      "[('base', 0.9360544217687075, 31.622776601683793), ('RandomUnderSampler', 0.7869822485207101, 2275.845926074791), ('SMOTE', 0.9351669941060904, 19306.977288832535), ('ClusterCentroids', 0.8668639053254438, 19306.977288832535), ('NearMiss', 0.9053254437869822, 268.2695795279727), ('SMOTEENN', 0.9746958637469586, 3.727593720314938), ('SMOTETomek', 0.9388506876227898, 2275.845926074791)]\n"
     ]
    },
    {
     "name": "stderr",
     "output_type": "stream",
     "text": [
      "[Parallel(n_jobs=1)]: Done  75 out of  75 | elapsed:   14.5s finished\n"
     ]
    }
   ],
   "source": [
    "# The code in this cell refers to https://www.kaggle.com/npramod/techniques-to-deal-with-imbalanced-data\n",
    "# Using Techniques to deal with imbalanced data\n",
    "\n",
    "from imblearn.under_sampling import ClusterCentroids,NearMiss, RandomUnderSampler\n",
    "from imblearn.over_sampling import SMOTE, RandomOverSampler\n",
    "from imblearn.combine import SMOTEENN,SMOTETomek\n",
    "import collections\n",
    "\n",
    "def benchmark(sampling_type,X_train,y_train,X_test,y_test):\n",
    "    lr = LogisticRegression(penalty = 'l1')\n",
    "    # param_grid = {'C':[0.01,0.1,1,10]}\n",
    "    param_grid = {'C':np.logspace(-5, 8, 15)}\n",
    "    gs = GridSearchCV(estimator=lr, param_grid=param_grid, scoring='accuracy', cv=5, verbose=2)\n",
    "    gs = gs.fit(X.values,y.values.ravel())\n",
    "    y_pred = gs.predict(X_test)\n",
    "    print(classification_report(y_test, y_pred))\n",
    "    return sampling_type,gs.best_score_,gs.best_params_['C']\n",
    "\n",
    "def transform(transformer,X,y):\n",
    "    print(\"Transforming {}\".format(transformer.__class__.__name__))\n",
    "    X_resampled,y_resampled = transformer.fit_sample(X.values,y.values.ravel())\n",
    "    print('data distribution:{}'.format(collections.Counter(y_resampled)))\n",
    "    return transformer.__class__.__name__,pd.DataFrame(X_resampled), pd.DataFrame(y_resampled)\n",
    "\n",
    "datasets=[]\n",
    "datasets.append((\"base\",X_train,y_train))\n",
    "datasets.append(transform(RandomUnderSampler(),X_train,y_train))\n",
    "datasets.append(transform(SMOTE(n_jobs=-1),X_train,y_train))\n",
    "datasets.append(transform(ClusterCentroids(n_jobs=-1),X_train,y_train))\n",
    "datasets.append(transform(NearMiss(n_jobs=-1),X_train,y_train))\n",
    "datasets.append(transform(SMOTEENN(),X_train,y_train))\n",
    "datasets.append(transform(SMOTETomek(),X_train,y_train))\n",
    "\n",
    "benchmark_scores = []\n",
    "for sample_type,X,y in datasets:\n",
    "    benchmark_scores.append(benchmark(sample_type,X,y,X_test,y_test))\n",
    "print(benchmark_scores)"
   ]
  },
  {
   "cell_type": "code",
   "execution_count": 150,
   "metadata": {},
   "outputs": [
    {
     "name": "stdout",
     "output_type": "stream",
     "text": [
      "Training on base\n",
      "Training on RandomUnderSampler\n",
      "Training on SMOTE\n",
      "Training on ClusterCentroids\n",
      "Training on NearMiss\n",
      "Training on SMOTEENN\n",
      "Training on SMOTETomek\n"
     ]
    }
   ],
   "source": [
    "# The code in this cell refers to https://www.kaggle.com/npramod/techniques-to-deal-with-imbalanced-data\n",
    "scores = []\n",
    "# train models based on benchmark params\n",
    "for sampling_type,score,param in benchmark_scores:\n",
    "    print(\"Training on {}\".format(sampling_type))\n",
    "    lr = LogisticRegression(penalty = 'l1',C=param)\n",
    "    for s_type,X,y in datasets:\n",
    "        if s_type == sampling_type:\n",
    "            lr.fit(X.values,y.values.ravel())\n",
    "            pred_test = lr.predict(X_test.values)\n",
    "            pred_test_probs = lr.predict_proba(X_test.values)\n",
    "            probs = lr.decision_function(X_test.values)\n",
    "            fpr, tpr, thresholds = roc_curve(y_test.values.ravel(),pred_test)\n",
    "            p,r,t = precision_recall_curve(y_test.values.ravel(),probs)\n",
    "            scores.append((sampling_type,\n",
    "                           f1_score(y_test.values.ravel(),pred_test),\n",
    "                           precision_score(y_test.values.ravel(),pred_test),\n",
    "                           recall_score(y_test.values.ravel(),pred_test),\n",
    "                           accuracy_score(y_test.values.ravel(),pred_test),\n",
    "                           auc(fpr, tpr),\n",
    "                           auc(p,r,reorder=True),\n",
    "                           confusion_matrix(y_test.values.ravel(),pred_test)))"
   ]
  },
  {
   "cell_type": "code",
   "execution_count": 151,
   "metadata": {},
   "outputs": [
    {
     "data": {
      "text/html": [
       "<div>\n",
       "<style scoped>\n",
       "    .dataframe tbody tr th:only-of-type {\n",
       "        vertical-align: middle;\n",
       "    }\n",
       "\n",
       "    .dataframe tbody tr th {\n",
       "        vertical-align: top;\n",
       "    }\n",
       "\n",
       "    .dataframe thead th {\n",
       "        text-align: right;\n",
       "    }\n",
       "</style>\n",
       "<table border=\"1\" class=\"dataframe\">\n",
       "  <thead>\n",
       "    <tr style=\"text-align: right;\">\n",
       "      <th></th>\n",
       "      <th>Sampling Type</th>\n",
       "      <th>f1</th>\n",
       "      <th>precision</th>\n",
       "      <th>recall</th>\n",
       "      <th>accuracy</th>\n",
       "      <th>auc_roc</th>\n",
       "      <th>auc_pr</th>\n",
       "      <th>confusion_matrix</th>\n",
       "    </tr>\n",
       "  </thead>\n",
       "  <tbody>\n",
       "    <tr>\n",
       "      <th>0</th>\n",
       "      <td>base</td>\n",
       "      <td>0.967630</td>\n",
       "      <td>0.958763</td>\n",
       "      <td>0.976663</td>\n",
       "      <td>0.940741</td>\n",
       "      <td>0.783786</td>\n",
       "      <td>0.058028</td>\n",
       "      <td>[[52, 36], [20, 837]]</td>\n",
       "    </tr>\n",
       "    <tr>\n",
       "      <th>1</th>\n",
       "      <td>RandomUnderSampler</td>\n",
       "      <td>0.891152</td>\n",
       "      <td>0.980392</td>\n",
       "      <td>0.816803</td>\n",
       "      <td>0.819048</td>\n",
       "      <td>0.828856</td>\n",
       "      <td>0.074273</td>\n",
       "      <td>[[74, 14], [157, 700]]</td>\n",
       "    </tr>\n",
       "    <tr>\n",
       "      <th>2</th>\n",
       "      <td>SMOTE</td>\n",
       "      <td>0.951814</td>\n",
       "      <td>0.970874</td>\n",
       "      <td>0.933489</td>\n",
       "      <td>0.914286</td>\n",
       "      <td>0.830381</td>\n",
       "      <td>0.067726</td>\n",
       "      <td>[[64, 24], [57, 800]]</td>\n",
       "    </tr>\n",
       "    <tr>\n",
       "      <th>3</th>\n",
       "      <td>ClusterCentroids</td>\n",
       "      <td>0.737609</td>\n",
       "      <td>0.982524</td>\n",
       "      <td>0.590432</td>\n",
       "      <td>0.619048</td>\n",
       "      <td>0.744080</td>\n",
       "      <td>0.050759</td>\n",
       "      <td>[[79, 9], [351, 506]]</td>\n",
       "    </tr>\n",
       "    <tr>\n",
       "      <th>4</th>\n",
       "      <td>NearMiss</td>\n",
       "      <td>0.733529</td>\n",
       "      <td>0.984283</td>\n",
       "      <td>0.584597</td>\n",
       "      <td>0.614815</td>\n",
       "      <td>0.746844</td>\n",
       "      <td>0.071898</td>\n",
       "      <td>[[80, 8], [356, 501]]</td>\n",
       "    </tr>\n",
       "    <tr>\n",
       "      <th>5</th>\n",
       "      <td>SMOTEENN</td>\n",
       "      <td>0.841259</td>\n",
       "      <td>0.987421</td>\n",
       "      <td>0.732789</td>\n",
       "      <td>0.749206</td>\n",
       "      <td>0.820940</td>\n",
       "      <td>0.074043</td>\n",
       "      <td>[[80, 8], [229, 628]]</td>\n",
       "    </tr>\n",
       "    <tr>\n",
       "      <th>6</th>\n",
       "      <td>SMOTETomek</td>\n",
       "      <td>0.953571</td>\n",
       "      <td>0.973269</td>\n",
       "      <td>0.934656</td>\n",
       "      <td>0.917460</td>\n",
       "      <td>0.842328</td>\n",
       "      <td>0.073314</td>\n",
       "      <td>[[66, 22], [56, 801]]</td>\n",
       "    </tr>\n",
       "  </tbody>\n",
       "</table>\n",
       "</div>"
      ],
      "text/plain": [
       "        Sampling Type        f1  precision    recall  accuracy   auc_roc  \\\n",
       "0                base  0.967630   0.958763  0.976663  0.940741  0.783786   \n",
       "1  RandomUnderSampler  0.891152   0.980392  0.816803  0.819048  0.828856   \n",
       "2               SMOTE  0.951814   0.970874  0.933489  0.914286  0.830381   \n",
       "3    ClusterCentroids  0.737609   0.982524  0.590432  0.619048  0.744080   \n",
       "4            NearMiss  0.733529   0.984283  0.584597  0.614815  0.746844   \n",
       "5            SMOTEENN  0.841259   0.987421  0.732789  0.749206  0.820940   \n",
       "6          SMOTETomek  0.953571   0.973269  0.934656  0.917460  0.842328   \n",
       "\n",
       "     auc_pr        confusion_matrix  \n",
       "0  0.058028   [[52, 36], [20, 837]]  \n",
       "1  0.074273  [[74, 14], [157, 700]]  \n",
       "2  0.067726   [[64, 24], [57, 800]]  \n",
       "3  0.050759   [[79, 9], [351, 506]]  \n",
       "4  0.071898   [[80, 8], [356, 501]]  \n",
       "5  0.074043   [[80, 8], [229, 628]]  \n",
       "6  0.073314   [[66, 22], [56, 801]]  "
      ]
     },
     "execution_count": 151,
     "metadata": {},
     "output_type": "execute_result"
    }
   ],
   "source": [
    "sampling_results = pd.DataFrame(scores,columns=['Sampling Type','f1','precision','recall','accuracy','auc_roc','auc_pr','confusion_matrix'])\n",
    "sampling_results"
   ]
  },
  {
   "cell_type": "markdown",
   "metadata": {},
   "source": [
    "#### Analysis:\n",
    "<ul>\n",
    "<li>All Undersampling algorithms can improve recall score of Negative Reviews, but comes at the cost of precision. It is because  </li>\n",
    "<li>All Oversampling algorithms can improve recall score of Negative Reviews. Even though they got lower precision score than base model, higher precision score of base model might be resulted from overfit model since the data is very imbalanced. So Undersampling algorithms is better for this imbalanced data.\n",
    "    \n",
    "<li>Overall the SMOTETomek is the best choice for this case based on the data analysis result above.</li>\n"
   ]
  },
  {
   "cell_type": "markdown",
   "metadata": {},
   "source": [
    "## Topic Modelling"
   ]
  },
  {
   "cell_type": "markdown",
   "metadata": {},
   "source": [
    "#### 1. Bag of Words on the Data set"
   ]
  },
  {
   "cell_type": "code",
   "execution_count": 154,
   "metadata": {},
   "outputs": [],
   "source": [
    "def preprocess(text):\n",
    "    result = []\n",
    "    for token in gensim.utils.simple_preprocess(text):\n",
    "        if len(token) > 3:\n",
    "            result.append(token)\n",
    "    return result"
   ]
  },
  {
   "cell_type": "code",
   "execution_count": 166,
   "metadata": {},
   "outputs": [
    {
     "data": {
      "text/html": [
       "<div>\n",
       "<style scoped>\n",
       "    .dataframe tbody tr th:only-of-type {\n",
       "        vertical-align: middle;\n",
       "    }\n",
       "\n",
       "    .dataframe tbody tr th {\n",
       "        vertical-align: top;\n",
       "    }\n",
       "\n",
       "    .dataframe thead th {\n",
       "        text-align: right;\n",
       "    }\n",
       "</style>\n",
       "<table border=\"1\" class=\"dataframe\">\n",
       "  <thead>\n",
       "    <tr style=\"text-align: right;\">\n",
       "      <th></th>\n",
       "      <th>verified_reviews</th>\n",
       "      <th>index</th>\n",
       "    </tr>\n",
       "  </thead>\n",
       "  <tbody>\n",
       "    <tr>\n",
       "      <th>0</th>\n",
       "      <td>love echo</td>\n",
       "      <td>0</td>\n",
       "    </tr>\n",
       "    <tr>\n",
       "      <th>1</th>\n",
       "      <td>love</td>\n",
       "      <td>1</td>\n",
       "    </tr>\n",
       "    <tr>\n",
       "      <th>2</th>\n",
       "      <td>sometim play game answer question correctli al...</td>\n",
       "      <td>2</td>\n",
       "    </tr>\n",
       "    <tr>\n",
       "      <th>3</th>\n",
       "      <td>lot fun thing yr old learn dinosaur control li...</td>\n",
       "      <td>3</td>\n",
       "    </tr>\n",
       "    <tr>\n",
       "      <th>4</th>\n",
       "      <td>music</td>\n",
       "      <td>4</td>\n",
       "    </tr>\n",
       "  </tbody>\n",
       "</table>\n",
       "</div>"
      ],
      "text/plain": [
       "                                    verified_reviews index\n",
       "0                                          love echo     0\n",
       "1                                               love     1\n",
       "2  sometim play game answer question correctli al...     2\n",
       "3  lot fun thing yr old learn dinosaur control li...     3\n",
       "4                                              music     4"
      ]
     },
     "execution_count": 166,
     "metadata": {},
     "output_type": "execute_result"
    }
   ],
   "source": [
    "cleaned_reviews_df = pd.DataFrame(cleaned_reviews)\n",
    "cleaned_reviews_df['index']=cleaned_reviews.index\n",
    "documents = cleaned_reviews_df\n",
    "documents[:5]\n"
   ]
  },
  {
   "cell_type": "code",
   "execution_count": 167,
   "metadata": {},
   "outputs": [
    {
     "data": {
      "text/plain": [
       "0                                         [love, echo]\n",
       "1                                               [love]\n",
       "2    [sometim, play, game, answer, question, correc...\n",
       "3    [thing, learn, dinosaur, control, light, play,...\n",
       "4                                              [music]\n",
       "5    [receiv, echo, gift, need, anoth, bluetooth, s...\n",
       "6    [without, cellphon, cannot, mani, featur, ipad...\n",
       "7    [think, purchas, work, everi, room, hous, real...\n",
       "8                                        [look, great]\n",
       "9    [love, listen, song, haven, heard, sinc, child...\n",
       "Name: verified_reviews, dtype: object"
      ]
     },
     "execution_count": 167,
     "metadata": {},
     "output_type": "execute_result"
    }
   ],
   "source": [
    "processed_docs = documents['verified_reviews'].astype(str).map(preprocess)\n",
    "processed_docs[:10]"
   ]
  },
  {
   "cell_type": "code",
   "execution_count": 168,
   "metadata": {},
   "outputs": [
    {
     "data": {
      "text/plain": [
       "[(0, 1), (1, 1)]"
      ]
     },
     "execution_count": 168,
     "metadata": {},
     "output_type": "execute_result"
    }
   ],
   "source": [
    "dictionary = gensim.corpora.Dictionary(processed_docs)\n",
    "dictionary.filter_extremes(no_below=15, no_above=0.5, keep_n=100000)\n",
    "bow_corpus = [dictionary.doc2bow(doc) for doc in processed_docs]\n",
    "bow_corpus[0]"
   ]
  },
  {
   "cell_type": "markdown",
   "metadata": {},
   "source": [
    "#### 2.TF-IDF"
   ]
  },
  {
   "cell_type": "code",
   "execution_count": 170,
   "metadata": {},
   "outputs": [],
   "source": [
    "from gensim import corpora, models\n",
    "\n",
    "tfidf = models.TfidfModel(bow_corpus)\n",
    "corpus_tfidf = tfidf[bow_corpus]"
   ]
  },
  {
   "cell_type": "markdown",
   "metadata": {},
   "source": [
    "#### 3. Running LDA using Bag of Words"
   ]
  },
  {
   "cell_type": "code",
   "execution_count": 171,
   "metadata": {},
   "outputs": [],
   "source": [
    "lda_model = gensim.models.LdaMulticore(bow_corpus, num_topics=10, id2word=dictionary, passes=2, workers=2)"
   ]
  },
  {
   "cell_type": "code",
   "execution_count": 172,
   "metadata": {},
   "outputs": [
    {
     "name": "stdout",
     "output_type": "stream",
     "text": [
      "Topic: 0 \n",
      "Words: 0.176*\"love\" + 0.041*\"echo\" + 0.025*\"thing\" + 0.019*\"learn\" + 0.018*\"everyth\" + 0.017*\"great\" + 0.017*\"alexa\" + 0.015*\"easi\" + 0.015*\"product\" + 0.014*\"like\"\n",
      "Topic: 1 \n",
      "Words: 0.059*\"love\" + 0.040*\"echo\" + 0.023*\"easi\" + 0.021*\"music\" + 0.018*\"good\" + 0.017*\"great\" + 0.017*\"sound\" + 0.016*\"play\" + 0.015*\"clock\" + 0.014*\"devic\"\n",
      "Topic: 2 \n",
      "Words: 0.042*\"love\" + 0.039*\"echo\" + 0.025*\"home\" + 0.023*\"music\" + 0.021*\"connect\" + 0.020*\"great\" + 0.020*\"work\" + 0.019*\"devic\" + 0.015*\"sound\" + 0.013*\"alexa\"\n",
      "Topic: 3 \n",
      "Words: 0.055*\"work\" + 0.051*\"like\" + 0.031*\"echo\" + 0.021*\"product\" + 0.020*\"bought\" + 0.019*\"refurbish\" + 0.017*\"alexa\" + 0.016*\"speaker\" + 0.015*\"thing\" + 0.014*\"would\"\n",
      "Topic: 4 \n",
      "Words: 0.070*\"great\" + 0.049*\"work\" + 0.040*\"music\" + 0.029*\"sound\" + 0.024*\"easi\" + 0.024*\"good\" + 0.024*\"love\" + 0.017*\"echo\" + 0.017*\"speaker\" + 0.016*\"well\"\n",
      "Topic: 5 \n",
      "Words: 0.092*\"great\" + 0.046*\"product\" + 0.043*\"sound\" + 0.035*\"echo\" + 0.032*\"easi\" + 0.029*\"work\" + 0.026*\"qualiti\" + 0.019*\"littl\" + 0.016*\"like\" + 0.015*\"time\"\n",
      "Topic: 6 \n",
      "Words: 0.042*\"alexa\" + 0.029*\"great\" + 0.023*\"sound\" + 0.023*\"like\" + 0.022*\"love\" + 0.019*\"echo\" + 0.019*\"speaker\" + 0.018*\"work\" + 0.017*\"alarm\" + 0.015*\"devic\"\n",
      "Topic: 7 \n",
      "Words: 0.074*\"echo\" + 0.027*\"light\" + 0.026*\"devic\" + 0.026*\"like\" + 0.022*\"love\" + 0.021*\"alexa\" + 0.018*\"amazon\" + 0.017*\"work\" + 0.017*\"music\" + 0.015*\"home\"\n",
      "Topic: 8 \n",
      "Words: 0.065*\"alexa\" + 0.025*\"love\" + 0.022*\"music\" + 0.022*\"work\" + 0.021*\"like\" + 0.019*\"thing\" + 0.016*\"play\" + 0.016*\"devic\" + 0.016*\"would\" + 0.016*\"speaker\"\n",
      "Topic: 9 \n",
      "Words: 0.037*\"music\" + 0.034*\"play\" + 0.031*\"still\" + 0.029*\"like\" + 0.024*\"time\" + 0.023*\"work\" + 0.018*\"echo\" + 0.018*\"learn\" + 0.015*\"easi\" + 0.014*\"alexa\"\n"
     ]
    }
   ],
   "source": [
    "for idx, topic in lda_model.print_topics(-1):\n",
    "    print('Topic: {} \\nWords: {}'.format(idx, topic))"
   ]
  },
  {
   "cell_type": "markdown",
   "metadata": {},
   "source": [
    "#### Analysis:\n",
    "<ul><li> Based on the results of Topics model, Easy to Use, Sound, Speaker of Device, Musics are the topics consumers are interested in very much. So these insights do give the Amazon further information about how to improve their products."
   ]
  },
  {
   "cell_type": "markdown",
   "metadata": {},
   "source": [
    "#### Future work\n",
    "Overall, the models are good, but needs to be improved for prediction negative reviews. Some future works are planned as follows: \n",
    "<ul>\n",
    "    <li> Implement the imbalance techniques on the other approaches to convert words to number, like TF-IDF, and Word2Vec to see if can get better model than LogisticRegression.\n",
    "    <li> Implement the imbalance techniques on the the other Classifier, like Naive Bayes model above to see if can get better result than LogisticRegression\n",
    "    <li> Build a Naive Bayes model where the features are n-grams instead of words, so as to improve Topics Modeling.\n",
    "        "
   ]
  },
  {
   "cell_type": "code",
   "execution_count": null,
   "metadata": {},
   "outputs": [],
   "source": []
  }
 ],
 "metadata": {
  "kernelspec": {
   "display_name": "Python 3",
   "language": "python",
   "name": "python3"
  },
  "language_info": {
   "codemirror_mode": {
    "name": "ipython",
    "version": 3
   },
   "file_extension": ".py",
   "mimetype": "text/x-python",
   "name": "python",
   "nbconvert_exporter": "python",
   "pygments_lexer": "ipython3",
   "version": "3.7.0"
  }
 },
 "nbformat": 4,
 "nbformat_minor": 2
}
