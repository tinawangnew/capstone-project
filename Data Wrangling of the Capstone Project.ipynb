{
 "cells": [
  {
   "cell_type": "markdown",
   "metadata": {},
   "source": [
    "## Data Wrangling of the Capstone Project"
   ]
  },
  {
   "cell_type": "markdown",
   "metadata": {},
   "source": [
    "Data wrangling is the process of cleaning data, restructure of data, and re-format of data.This project does not involve too many data wrangling works. The data wrangling works are mainly about restructure of data, and re-format of data.\n",
    "<ul>\n",
    "<li> Data cleaning is needed in the part of Feature engineering. \n",
    "<ul>\n",
    "<li>First load .tsv data file as a Python Pandas DataFrame.\n",
    "<li>Then import import stopwords from nltk.corpus,from nltk.tokenizeimport word_tokenize,from string import punctuation,import re. Apply the functions of these library on the \"verified_review\"column to remove stopwords, puctuation, and some words do not make any sense at all. The database operation with Python are also involved in this process.\n",
    "</ul>\n",
    "<li>Lots of data restructure and re-format work are needed in each phrase of the project.\n",
    "In the phrase of EDA & Visualiztion, I need to extract specific columns or rows of the dataset based on the plot requirements. Sometimes some functions of Pandas DataFrame or NumPy are applied on the extracted data to transform the type of data to another format, or to get the value like mean value, that kinds of value.\n",
    "<li>To summarize, the data structures are very important for data wrangling. List, NumPy array, tuple, dictionary, DataFrame of Pandas are the essencial skill for data wrangling. Please refer to my Notebook on the Github for details about data wrangling. <href>http://localhost:8889/notebooks/portfolio/amazon-alexa-review%20(1).ipynb# \n",
    "</ul>"
   ]
  },
  {
   "cell_type": "code",
   "execution_count": null,
   "metadata": {},
   "outputs": [],
   "source": []
  }
 ],
 "metadata": {
  "kernelspec": {
   "display_name": "Python 3",
   "language": "python",
   "name": "python3"
  },
  "language_info": {
   "codemirror_mode": {
    "name": "ipython",
    "version": 3
   },
   "file_extension": ".py",
   "mimetype": "text/x-python",
   "name": "python",
   "nbconvert_exporter": "python",
   "pygments_lexer": "ipython3",
   "version": "3.7.0"
  }
 },
 "nbformat": 4,
 "nbformat_minor": 2
}
